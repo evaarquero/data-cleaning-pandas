{
 "cells": [
  {
   "cell_type": "markdown",
   "metadata": {},
   "source": [
    "# Exploring\n",
    "\n",
    "Explore the data and write down what you have found. \n",
    "Con un primer vistazo, vemos:\n",
    "- De 25723 entries, hay 17021 nulos (Minimo), teniendo en cuenta que el Cas number  o la fecha son los más importantes. \n",
    "- We can see that there are a seies of data, which are without case number and data. \n",
    "- Therefore there´s a possibility for purge all rows, in which there is no information given\n",
    "- Hay dos columnas con solo un dato, estas no presentarán ningún valor a la estadistica. (se borrarán más adelante)\n",
    "### Descubriendo columnas y entendiendo su información\n",
    "#### 1.1 Case numbers / Dates / Year\n",
    "Estas tres columnas están relacionadas, ya que se basan en la fecha en la que ocurrió o se reportó.\n",
    "From the dictionary of Dates:\n",
    "- It can be seen that dates are repeated by two sometimes, I checked that this is casuall\n",
    "- There are some dates that are \"reported\" which are related to the case number ending in R (2017.11.25.R)\n",
    "- Fechas que tienene el año como 144, que en realidad se refieren al 1944 (mirando el case number o el year)\n",
    "- Estas fechas suelen estar contrastadas y corregidas en la columna \"Year\".\n",
    "- como fecha se da la World War II\n",
    "Sería posible incluso buscar estás fechas \"erroneas\"\n",
    "#### 1.2 Type\n",
    "Viendo el type viene esta pregunta : ¿qué quiere decir con \"Type\" en la columna?\n",
    "- Provoked = que de alguna manera los han provocado.(acercandose a los tiburones,  etc)\n",
    "- Invalid ?? =  (Normalmente coincide con \"shark attack not confirmed\")\n",
    "- Sea Disaster - algun tipo de hundimiento, accidente aereo, etc\n",
    "- Boating = Pescando, iendo en bote, canoa, kayak... etc\n",
    "- Questionable = hay dos surfers\n",
    "- Boatomg = 1 fishing \n",
    "\n",
    "Could be said that this is a category, having: \n",
    "- Provoked\n",
    "- Unprovoked + Questionable + boating + boat\n",
    "- Sea Disaster\n",
    "\n",
    "Is it the sex related to this accidents? \n",
    "#### 1.3 Country / Area / location\n",
    "Estas tres columnas tambien están relacionadas. \n",
    "Los paises más atacados por sharks son USA y AUSTRALIA. \n",
    "\n",
    "#### 1.4 Name / Sex\n",
    "EL nombre de la columna es \"Sex \", cambiar a \"Sex\".\n",
    "- A veces en sexo pone N, porque son dos personas de distinto sexo  (luego hay otro que es un hombre)\n",
    "- Si está en blanco o con \".\" significa que no tienene el nombre. \n",
    "- Cambiar variables como:  \"M \" a \"M\", \"lli\" a \"M\"\n",
    "\n",
    "Esta categoría, sin mirarla muy de cerca podría verse bien dos categorias facilmente limpiables (Male y Female)\n",
    "\n",
    "Hay unos 5737 datos de genero. Que según mi criterio es una buena manera de empezar. \n",
    "\n",
    "#### 1.5 Species\n",
    "En \"Species \" vemos 3464 datos de los que podrian ser 6000, esto quiere decir que habrá muchos datos sin poder saber la especie.\n",
    "\n",
    "- Descubrimos que hay algunas datos en los que se dice que los tiburones no estaban confirmados.\n",
    "- Se tieneen muchos tipos, muy mal ordenados. Esta lista no nos sirve como categoria \n",
    "\n",
    "lista de sharks no confirmados:\n",
    "\"\"\"\n",
    " 'Shark involvement suspected but not confirmed': 4,\n",
    " 'Shark involvement questionable': 4,\n",
    " 'Shark involvement prior to death was not confirmed': 105,\n",
    " 'Invalid': 102,\n",
    " 'Shark involvement not confirmed': 88,\n",
    " 'Questionable incident': 35,\n",
    " 'Questionable': 34,\n",
    " 'No shark involvement': 21,\n",
    " 'Shark involvement prior to death not confirmed': 13,\n",
    " 'Shark involvement suspected but not confirmed': 4,\n",
    " 'Shark involvement questionable': 4,\n",
    " 'Questionable Incident': 3,\n",
    " 'Shark involvement not cofirmed': 2 \"\"\"\n",
    "\n",
    "### 1.6 Rest of values\n",
    "Age: Datos no muy extensos, quizás para saber el perfil del muerto. \n",
    "Investigator or Source: Diferentes organismos y luegares de donde se han recogido los datos. "
   ]
  },
  {
   "cell_type": "markdown",
   "metadata": {},
   "source": [
    "# DATA EXPLORING:"
   ]
  },
  {
   "cell_type": "code",
   "execution_count": 1,
   "metadata": {},
   "outputs": [],
   "source": [
    "# Libraries\n",
    "import numpy as np\n",
    "# Your Code Here\n",
    "import pandas as pd\n",
    "import seaborn as sns\n",
    "import matplotlib.pyplot as plt"
   ]
  },
  {
   "cell_type": "code",
   "execution_count": 3,
   "metadata": {},
   "outputs": [],
   "source": [
    "import sys\n",
    "sys.path.append(\"../\")\n",
    "from src.functions import *"
   ]
  },
  {
   "cell_type": "code",
   "execution_count": 4,
   "metadata": {},
   "outputs": [],
   "source": [
    "df = pd.read_csv(\"data/attacks.csv\",encoding = \"ISO-8859-1\")"
   ]
  },
  {
   "cell_type": "code",
   "execution_count": 7,
   "metadata": {
    "scrolled": true
   },
   "outputs": [
    {
     "data": {
      "text/plain": [
       "RangeIndex(start=0, stop=25723, step=1)"
      ]
     },
     "execution_count": 7,
     "metadata": {},
     "output_type": "execute_result"
    }
   ],
   "source": [
    "df.index"
   ]
  },
  {
   "cell_type": "code",
   "execution_count": 8,
   "metadata": {},
   "outputs": [
    {
     "name": "stdout",
     "output_type": "stream",
     "text": [
      "<class 'pandas.core.frame.DataFrame'>\n",
      "RangeIndex: 25723 entries, 0 to 25722\n",
      "Data columns (total 24 columns):\n",
      " #   Column                  Non-Null Count  Dtype  \n",
      "---  ------                  --------------  -----  \n",
      " 0   Case Number             8702 non-null   object \n",
      " 1   Date                    6302 non-null   object \n",
      " 2   Year                    6300 non-null   float64\n",
      " 3   Type                    6298 non-null   object \n",
      " 4   Country                 6252 non-null   object \n",
      " 5   Area                    5847 non-null   object \n",
      " 6   Location                5762 non-null   object \n",
      " 7   Activity                5758 non-null   object \n",
      " 8   Name                    6092 non-null   object \n",
      " 9   Sex                     5737 non-null   object \n",
      " 10  Age                     3471 non-null   object \n",
      " 11  Injury                  6274 non-null   object \n",
      " 12  Fatal (Y/N)             5763 non-null   object \n",
      " 13  Time                    2948 non-null   object \n",
      " 14  Species                 3464 non-null   object \n",
      " 15  Investigator or Source  6285 non-null   object \n",
      " 16  pdf                     6302 non-null   object \n",
      " 17  href formula            6301 non-null   object \n",
      " 18  href                    6302 non-null   object \n",
      " 19  Case Number.1           6302 non-null   object \n",
      " 20  Case Number.2           6302 non-null   object \n",
      " 21  original order          6309 non-null   float64\n",
      " 22  Unnamed: 22             1 non-null      object \n",
      " 23  Unnamed: 23             2 non-null      object \n",
      "dtypes: float64(2), object(22)\n",
      "memory usage: 4.7+ MB\n"
     ]
    }
   ],
   "source": [
    "df.info()\n",
    "#From info, we can see that the columns \"unamed\" could be disregarded "
   ]
  },
  {
   "cell_type": "markdown",
   "metadata": {},
   "source": [
    "Con este primer vistazo, vemos:\n",
    "- De 25723 entries, hay 17021 nulos (Minimo), teniendo en cuenta que el Cas number  o la fecha son los más importantes. \n",
    "- We can see that there are a seies of data, which are without case number and data. \n",
    "- Therefore there´s a possibility for purge all rows, in which there is no information given\n",
    "- Hay dos columnas con solo un dato, estas no presentarán ningún valor a la estadistica. (se borrarán más adelante)"
   ]
  },
  {
   "cell_type": "markdown",
   "metadata": {},
   "source": [
    "# 1. Descubriendo columnas y entendiendo su información"
   ]
  },
  {
   "cell_type": "code",
   "execution_count": 9,
   "metadata": {},
   "outputs": [
    {
     "data": {
      "text/plain": [
       "Index(['Case Number', 'Date', 'Year', 'Type', 'Country', 'Area', 'Location',\n",
       "       'Activity', 'Name', 'Sex ', 'Age', 'Injury', 'Fatal (Y/N)', 'Time',\n",
       "       'Species ', 'Investigator or Source', 'pdf', 'href formula', 'href',\n",
       "       'Case Number.1', 'Case Number.2', 'original order', 'Unnamed: 22',\n",
       "       'Unnamed: 23'],\n",
       "      dtype='object')"
      ]
     },
     "execution_count": 9,
     "metadata": {},
     "output_type": "execute_result"
    }
   ],
   "source": [
    "df.columns"
   ]
  },
  {
   "cell_type": "code",
   "execution_count": 10,
   "metadata": {
    "scrolled": true
   },
   "outputs": [
    {
     "data": {
      "text/plain": [
       "Case Number\n",
       "0               2400\n",
       "2006.09.02         2\n",
       "1966.12.26         2\n",
       "2009.12.18         2\n",
       "1923.00.00.a       2\n",
       "                ... \n",
       "2001.01.06         1\n",
       "2001.01.09         1\n",
       "2001.01.21         1\n",
       "2001.01.24         1\n",
       "1981.05.19         1\n",
       "Length: 6287, dtype: int64"
      ]
     },
     "execution_count": 10,
     "metadata": {},
     "output_type": "execute_result"
    }
   ],
   "source": [
    "df.value_counts(\"Case Number\")"
   ]
  },
  {
   "cell_type": "code",
   "execution_count": 11,
   "metadata": {},
   "outputs": [
    {
     "data": {
      "text/plain": [
       "Case Number               2400\n",
       "Date                         0\n",
       "Year                         0\n",
       "Type                         0\n",
       "Country                      0\n",
       "Area                         0\n",
       "Location                     0\n",
       "Activity                     0\n",
       "Name                         0\n",
       "Sex                          0\n",
       "Age                          0\n",
       "Injury                       0\n",
       "Fatal (Y/N)                  0\n",
       "Time                         0\n",
       "Species                      0\n",
       "Investigator or Source       0\n",
       "pdf                          0\n",
       "href formula                 0\n",
       "href                         0\n",
       "Case Number.1                0\n",
       "Case Number.2                0\n",
       "original order               7\n",
       "Unnamed: 22                  0\n",
       "Unnamed: 23                  0\n",
       "dtype: int64"
      ]
     },
     "execution_count": 11,
     "metadata": {},
     "output_type": "execute_result"
    }
   ],
   "source": [
    "## como buscar los NaN de una columna\n",
    "df.loc[df[\"Case Number\"] == \"0\"].count()"
   ]
  },
  {
   "cell_type": "markdown",
   "metadata": {},
   "source": [
    "### 1.1 CASE NUMBER / DATES / YEAR\n",
    "Estas tres columnas están relacionadas, ya que se basan en la fecha en la que ocurrió o se reportó.\n",
    "From the dictionary of Dates:\n",
    "- It can be seen that dates are repeated by two sometimes, I checked that this is casuall\n",
    "- There are some dates that are \"reported\" which are related to the case number ending in R (2017.11.25.R)\n",
    "- Fechas que tienene el año como 144, que en realidad se refieren al 1944 (mirando el case number o el year)\n",
    "- Estas fechas suelen estar contrastadas y corregidas en la columna \"Year\".\n",
    "- como fecha se da la World War II\n",
    "- Case number / Case number 1 / Case number 3 - todos deberian tener el mismo valor. \n",
    "\n",
    "\n",
    "Sería posible incluso buscar estás fechas \"erroneas\"\n"
   ]
  },
  {
   "cell_type": "code",
   "execution_count": 12,
   "metadata": {
    "scrolled": true
   },
   "outputs": [
    {
     "data": {
      "text/plain": [
       "Date\n",
       "1957              11\n",
       "1942               9\n",
       "1956               8\n",
       "1941               7\n",
       "1950               7\n",
       "                  ..\n",
       "22-Jul-2011        1\n",
       "22-Jul-2014        1\n",
       "22-Jul-2015        1\n",
       "22-Jul-2017        1\n",
       "\\n1951.12.15.R     1\n",
       "Length: 5433, dtype: int64"
      ]
     },
     "execution_count": 12,
     "metadata": {},
     "output_type": "execute_result"
    }
   ],
   "source": [
    "df.value_counts(\"Date\")"
   ]
  },
  {
   "cell_type": "code",
   "execution_count": 13,
   "metadata": {
    "scrolled": false
   },
   "outputs": [
    {
     "data": {
      "text/html": [
       "<div>\n",
       "<style scoped>\n",
       "    .dataframe tbody tr th:only-of-type {\n",
       "        vertical-align: middle;\n",
       "    }\n",
       "\n",
       "    .dataframe tbody tr th {\n",
       "        vertical-align: top;\n",
       "    }\n",
       "\n",
       "    .dataframe thead th {\n",
       "        text-align: right;\n",
       "    }\n",
       "</style>\n",
       "<table border=\"1\" class=\"dataframe\">\n",
       "  <thead>\n",
       "    <tr style=\"text-align: right;\">\n",
       "      <th></th>\n",
       "      <th>Case Number</th>\n",
       "      <th>Date</th>\n",
       "      <th>Year</th>\n",
       "      <th>Type</th>\n",
       "      <th>Country</th>\n",
       "      <th>Area</th>\n",
       "      <th>Location</th>\n",
       "      <th>Activity</th>\n",
       "      <th>Name</th>\n",
       "      <th>Sex</th>\n",
       "      <th>...</th>\n",
       "      <th>Species</th>\n",
       "      <th>Investigator or Source</th>\n",
       "      <th>pdf</th>\n",
       "      <th>href formula</th>\n",
       "      <th>href</th>\n",
       "      <th>Case Number.1</th>\n",
       "      <th>Case Number.2</th>\n",
       "      <th>original order</th>\n",
       "      <th>Unnamed: 22</th>\n",
       "      <th>Unnamed: 23</th>\n",
       "    </tr>\n",
       "  </thead>\n",
       "  <tbody>\n",
       "    <tr>\n",
       "      <th>4644</th>\n",
       "      <td>1944.07.22</td>\n",
       "      <td>22-Jul-144</td>\n",
       "      <td>1944.0</td>\n",
       "      <td>Unprovoked</td>\n",
       "      <td>SOUTH AFRICA</td>\n",
       "      <td>Western Cape Province</td>\n",
       "      <td>Hartenbos</td>\n",
       "      <td>Swimming</td>\n",
       "      <td>Albert Schmidt</td>\n",
       "      <td>M</td>\n",
       "      <td>...</td>\n",
       "      <td>White shark, according to witnesses</td>\n",
       "      <td>M. Levine, GSAF</td>\n",
       "      <td>1944.07.22-Schmidt.pdf</td>\n",
       "      <td>http://sharkattackfile.net/spreadsheets/pdf_di...</td>\n",
       "      <td>http://sharkattackfile.net/spreadsheets/pdf_di...</td>\n",
       "      <td>1944.07.22</td>\n",
       "      <td>1944.07.22</td>\n",
       "      <td>1659.0</td>\n",
       "      <td>NaN</td>\n",
       "      <td>NaN</td>\n",
       "    </tr>\n",
       "  </tbody>\n",
       "</table>\n",
       "<p>1 rows × 24 columns</p>\n",
       "</div>"
      ],
      "text/plain": [
       "     Case Number        Date    Year        Type       Country  \\\n",
       "4644  1944.07.22  22-Jul-144  1944.0  Unprovoked  SOUTH AFRICA   \n",
       "\n",
       "                       Area   Location  Activity            Name Sex   ...  \\\n",
       "4644  Western Cape Province  Hartenbos  Swimming  Albert Schmidt    M  ...   \n",
       "\n",
       "                                 Species  Investigator or Source  \\\n",
       "4644  White shark, according to witnesses        M. Levine, GSAF   \n",
       "\n",
       "                         pdf  \\\n",
       "4644  1944.07.22-Schmidt.pdf   \n",
       "\n",
       "                                           href formula  \\\n",
       "4644  http://sharkattackfile.net/spreadsheets/pdf_di...   \n",
       "\n",
       "                                                   href Case Number.1  \\\n",
       "4644  http://sharkattackfile.net/spreadsheets/pdf_di...    1944.07.22   \n",
       "\n",
       "     Case Number.2 original order Unnamed: 22 Unnamed: 23  \n",
       "4644    1944.07.22         1659.0         NaN         NaN  \n",
       "\n",
       "[1 rows x 24 columns]"
      ]
     },
     "execution_count": 13,
     "metadata": {},
     "output_type": "execute_result"
    }
   ],
   "source": [
    "df.loc[df[\"Date\"] == \"22-Jul-144\"]"
   ]
  },
  {
   "cell_type": "code",
   "execution_count": 14,
   "metadata": {},
   "outputs": [
    {
     "data": {
      "text/html": [
       "<div>\n",
       "<style scoped>\n",
       "    .dataframe tbody tr th:only-of-type {\n",
       "        vertical-align: middle;\n",
       "    }\n",
       "\n",
       "    .dataframe tbody tr th {\n",
       "        vertical-align: top;\n",
       "    }\n",
       "\n",
       "    .dataframe thead th {\n",
       "        text-align: right;\n",
       "    }\n",
       "</style>\n",
       "<table border=\"1\" class=\"dataframe\">\n",
       "  <thead>\n",
       "    <tr style=\"text-align: right;\">\n",
       "      <th></th>\n",
       "      <th>Case Number</th>\n",
       "      <th>Date</th>\n",
       "      <th>Year</th>\n",
       "      <th>Type</th>\n",
       "      <th>Country</th>\n",
       "      <th>Area</th>\n",
       "      <th>Location</th>\n",
       "      <th>Activity</th>\n",
       "      <th>Name</th>\n",
       "      <th>Sex</th>\n",
       "      <th>...</th>\n",
       "      <th>Species</th>\n",
       "      <th>Investigator or Source</th>\n",
       "      <th>pdf</th>\n",
       "      <th>href formula</th>\n",
       "      <th>href</th>\n",
       "      <th>Case Number.1</th>\n",
       "      <th>Case Number.2</th>\n",
       "      <th>original order</th>\n",
       "      <th>Unnamed: 22</th>\n",
       "      <th>Unnamed: 23</th>\n",
       "    </tr>\n",
       "  </thead>\n",
       "  <tbody>\n",
       "    <tr>\n",
       "      <th>17</th>\n",
       "      <td>2018.04.30.R</td>\n",
       "      <td>Reported 30-Apr-2018</td>\n",
       "      <td>2018.0</td>\n",
       "      <td>Unprovoked</td>\n",
       "      <td>THAILAND</td>\n",
       "      <td>Hua Hin</td>\n",
       "      <td>Sai Noi Beach</td>\n",
       "      <td>Swimming</td>\n",
       "      <td>female</td>\n",
       "      <td>M</td>\n",
       "      <td>...</td>\n",
       "      <td>NaN</td>\n",
       "      <td>K. McMurray, TrackingSharks.com</td>\n",
       "      <td>2018.04.30.R-Thailand.pdf</td>\n",
       "      <td>http://sharkattackfile.net/spreadsheets/pdf_di...</td>\n",
       "      <td>http://sharkattackfile.net/spreadsheets/pdf_di...</td>\n",
       "      <td>2018.04.30.R</td>\n",
       "      <td>2018.04.30.R</td>\n",
       "      <td>6286.0</td>\n",
       "      <td>NaN</td>\n",
       "      <td>NaN</td>\n",
       "    </tr>\n",
       "    <tr>\n",
       "      <th>31</th>\n",
       "      <td>2018.04.10.R</td>\n",
       "      <td>Reported 10-Apr-2018</td>\n",
       "      <td>2018.0</td>\n",
       "      <td>Invalid</td>\n",
       "      <td>BRAZIL</td>\n",
       "      <td>Alagoas</td>\n",
       "      <td>Praia de Sauaçuhy, Maceió</td>\n",
       "      <td>Fishing</td>\n",
       "      <td>Josias Paz</td>\n",
       "      <td>M</td>\n",
       "      <td>...</td>\n",
       "      <td>Shark involvement not confirmed</td>\n",
       "      <td>K. McMurray, TrackingSharks.com</td>\n",
       "      <td>2018.04.10.R-Paz.pdf</td>\n",
       "      <td>http://sharkattackfile.net/spreadsheets/pdf_di...</td>\n",
       "      <td>http://sharkattackfile.net/spreadsheets/pdf_di...</td>\n",
       "      <td>2018.04.10.R</td>\n",
       "      <td>2018.04.10.R</td>\n",
       "      <td>6272.0</td>\n",
       "      <td>NaN</td>\n",
       "      <td>NaN</td>\n",
       "    </tr>\n",
       "  </tbody>\n",
       "</table>\n",
       "<p>2 rows × 24 columns</p>\n",
       "</div>"
      ],
      "text/plain": [
       "     Case Number                  Date    Year        Type   Country     Area  \\\n",
       "17  2018.04.30.R  Reported 30-Apr-2018  2018.0  Unprovoked  THAILAND  Hua Hin   \n",
       "31  2018.04.10.R  Reported 10-Apr-2018  2018.0     Invalid    BRAZIL  Alagoas   \n",
       "\n",
       "                     Location  Activity        Name Sex   ...  \\\n",
       "17              Sai Noi Beach  Swimming      female    M  ...   \n",
       "31  Praia de Sauaçuhy, Maceió   Fishing  Josias Paz    M  ...   \n",
       "\n",
       "                           Species            Investigator or Source  \\\n",
       "17                              NaN  K. McMurray, TrackingSharks.com   \n",
       "31  Shark involvement not confirmed  K. McMurray, TrackingSharks.com   \n",
       "\n",
       "                          pdf  \\\n",
       "17  2018.04.30.R-Thailand.pdf   \n",
       "31       2018.04.10.R-Paz.pdf   \n",
       "\n",
       "                                         href formula  \\\n",
       "17  http://sharkattackfile.net/spreadsheets/pdf_di...   \n",
       "31  http://sharkattackfile.net/spreadsheets/pdf_di...   \n",
       "\n",
       "                                                 href Case Number.1  \\\n",
       "17  http://sharkattackfile.net/spreadsheets/pdf_di...  2018.04.30.R   \n",
       "31  http://sharkattackfile.net/spreadsheets/pdf_di...  2018.04.10.R   \n",
       "\n",
       "   Case Number.2 original order Unnamed: 22 Unnamed: 23  \n",
       "17  2018.04.30.R         6286.0         NaN         NaN  \n",
       "31  2018.04.10.R         6272.0         NaN         NaN  \n",
       "\n",
       "[2 rows x 24 columns]"
      ]
     },
     "execution_count": 14,
     "metadata": {},
     "output_type": "execute_result"
    }
   ],
   "source": [
    "df[df['Case Number'].str.count('.R$')>0].head(2)"
   ]
  },
  {
   "cell_type": "code",
   "execution_count": 15,
   "metadata": {},
   "outputs": [
    {
     "data": {
      "text/html": [
       "<div>\n",
       "<style scoped>\n",
       "    .dataframe tbody tr th:only-of-type {\n",
       "        vertical-align: middle;\n",
       "    }\n",
       "\n",
       "    .dataframe tbody tr th {\n",
       "        vertical-align: top;\n",
       "    }\n",
       "\n",
       "    .dataframe thead th {\n",
       "        text-align: right;\n",
       "    }\n",
       "</style>\n",
       "<table border=\"1\" class=\"dataframe\">\n",
       "  <thead>\n",
       "    <tr style=\"text-align: right;\">\n",
       "      <th></th>\n",
       "      <th>Case Number</th>\n",
       "      <th>Date</th>\n",
       "      <th>Year</th>\n",
       "      <th>Type</th>\n",
       "      <th>Country</th>\n",
       "      <th>Area</th>\n",
       "      <th>Location</th>\n",
       "      <th>Activity</th>\n",
       "      <th>Name</th>\n",
       "      <th>Sex</th>\n",
       "      <th>...</th>\n",
       "      <th>Species</th>\n",
       "      <th>Investigator or Source</th>\n",
       "      <th>pdf</th>\n",
       "      <th>href formula</th>\n",
       "      <th>href</th>\n",
       "      <th>Case Number.1</th>\n",
       "      <th>Case Number.2</th>\n",
       "      <th>original order</th>\n",
       "      <th>Unnamed: 22</th>\n",
       "      <th>Unnamed: 23</th>\n",
       "    </tr>\n",
       "  </thead>\n",
       "  <tbody>\n",
       "    <tr>\n",
       "      <th>6271</th>\n",
       "      <td>ND.0032</td>\n",
       "      <td>World War II</td>\n",
       "      <td>0.0</td>\n",
       "      <td>Sea Disaster</td>\n",
       "      <td>PAPUA NEW GUINEA</td>\n",
       "      <td>Between New Ireland &amp; New Britain</td>\n",
       "      <td>St. Georges Channel</td>\n",
       "      <td>Spent 8 days in dinghy</td>\n",
       "      <td>pilot</td>\n",
       "      <td>M</td>\n",
       "      <td>...</td>\n",
       "      <td>NaN</td>\n",
       "      <td>G.A. Llano in Airmen Against the Sea, p.69; V....</td>\n",
       "      <td>ND-0032-RabaulPilot.pdf</td>\n",
       "      <td>http://sharkattackfile.net/spreadsheets/pdf_di...</td>\n",
       "      <td>http://sharkattackfile.net/spreadsheets/pdf_di...</td>\n",
       "      <td>ND.0032</td>\n",
       "      <td>ND.0032</td>\n",
       "      <td>32.0</td>\n",
       "      <td>NaN</td>\n",
       "      <td>NaN</td>\n",
       "    </tr>\n",
       "    <tr>\n",
       "      <th>6272</th>\n",
       "      <td>ND.0031</td>\n",
       "      <td>World War II</td>\n",
       "      <td>0.0</td>\n",
       "      <td>Sea Disaster</td>\n",
       "      <td>PAPUA NEW GUINEA</td>\n",
       "      <td>Madang Province</td>\n",
       "      <td>Off Lae</td>\n",
       "      <td>Aircraft ditched in the sea, swimming ashore</td>\n",
       "      <td>male</td>\n",
       "      <td>M</td>\n",
       "      <td>...</td>\n",
       "      <td>NaN</td>\n",
       "      <td>V.M. Coppleson (1962), p.257</td>\n",
       "      <td>ND-0031-Ditched-Aircrat.pdf</td>\n",
       "      <td>http://sharkattackfile.net/spreadsheets/pdf_di...</td>\n",
       "      <td>http://sharkattackfile.net/spreadsheets/pdf_di...</td>\n",
       "      <td>ND.0031</td>\n",
       "      <td>ND.0031</td>\n",
       "      <td>31.0</td>\n",
       "      <td>NaN</td>\n",
       "      <td>NaN</td>\n",
       "    </tr>\n",
       "  </tbody>\n",
       "</table>\n",
       "<p>2 rows × 24 columns</p>\n",
       "</div>"
      ],
      "text/plain": [
       "     Case Number          Date  Year          Type           Country  \\\n",
       "6271     ND.0032  World War II   0.0  Sea Disaster  PAPUA NEW GUINEA   \n",
       "6272     ND.0031  World War II   0.0  Sea Disaster  PAPUA NEW GUINEA   \n",
       "\n",
       "                                   Area              Location  \\\n",
       "6271  Between New Ireland & New Britain  St. Georges Channel   \n",
       "6272                    Madang Province               Off Lae   \n",
       "\n",
       "                                          Activity   Name Sex   ... Species   \\\n",
       "6271                        Spent 8 days in dinghy  pilot    M  ...      NaN   \n",
       "6272  Aircraft ditched in the sea, swimming ashore   male    M  ...      NaN   \n",
       "\n",
       "                                 Investigator or Source  \\\n",
       "6271  G.A. Llano in Airmen Against the Sea, p.69; V....   \n",
       "6272                       V.M. Coppleson (1962), p.257   \n",
       "\n",
       "                              pdf  \\\n",
       "6271      ND-0032-RabaulPilot.pdf   \n",
       "6272  ND-0031-Ditched-Aircrat.pdf   \n",
       "\n",
       "                                           href formula  \\\n",
       "6271  http://sharkattackfile.net/spreadsheets/pdf_di...   \n",
       "6272  http://sharkattackfile.net/spreadsheets/pdf_di...   \n",
       "\n",
       "                                                   href Case Number.1  \\\n",
       "6271  http://sharkattackfile.net/spreadsheets/pdf_di...       ND.0032   \n",
       "6272  http://sharkattackfile.net/spreadsheets/pdf_di...       ND.0031   \n",
       "\n",
       "     Case Number.2 original order Unnamed: 22 Unnamed: 23  \n",
       "6271       ND.0032           32.0         NaN         NaN  \n",
       "6272       ND.0031           31.0         NaN         NaN  \n",
       "\n",
       "[2 rows x 24 columns]"
      ]
     },
     "execution_count": 15,
     "metadata": {},
     "output_type": "execute_result"
    }
   ],
   "source": [
    "df.loc[df[\"Date\"] == \"World War II\"]"
   ]
  },
  {
   "cell_type": "markdown",
   "metadata": {},
   "source": [
    "### 1.2 Type\n",
    "Viendo el type viene esta pregunta : ¿qué quiere decir con \"Type\" en la columna?\n",
    "- Provoked = que de alguna manera los han provocado.(acercandose a los tiburones,  etc)\n",
    "- Invalid ?? = \n",
    "- Sea Disaster - algun tipo de hundimiento, accidente aereo, etc\n",
    "- Boating = Pescando, iendo en bote, canoa, kayak... etc\n",
    "- Questionable = hay dos surfers\n",
    "- Boatomg = 1 fishing \n",
    "\n",
    "Could be said that this is a category, having: \n",
    "- Provoked\n",
    "- Unprovoked + Questionable + boating + boat\n",
    "- Sea Disaster\n",
    "\n",
    "Is it the sex related to this accidents? \n"
   ]
  },
  {
   "cell_type": "code",
   "execution_count": 16,
   "metadata": {},
   "outputs": [
    {
     "data": {
      "text/plain": [
       "Type\n",
       "Unprovoked      4595\n",
       "Provoked         574\n",
       "Invalid          547\n",
       "Sea Disaster     239\n",
       "Boating          203\n",
       "Boat             137\n",
       "Questionable       2\n",
       "Boatomg            1\n",
       "dtype: int64"
      ]
     },
     "execution_count": 16,
     "metadata": {},
     "output_type": "execute_result"
    }
   ],
   "source": [
    "df.value_counts(\"Type\")"
   ]
  },
  {
   "cell_type": "code",
   "execution_count": 17,
   "metadata": {
    "scrolled": true
   },
   "outputs": [
    {
     "data": {
      "text/plain": [
       "M    411\n",
       "F     62\n",
       "Name: Sex , dtype: int64"
      ]
     },
     "execution_count": 17,
     "metadata": {},
     "output_type": "execute_result"
    }
   ],
   "source": [
    "invalid = df.loc[df[\"Type\"] == \"Invalid\"]\n",
    "invalid['Sex '].value_counts()"
   ]
  },
  {
   "cell_type": "code",
   "execution_count": 18,
   "metadata": {},
   "outputs": [],
   "source": [
    "unprovoked = df.loc[(df[\"Type\"] == \"Unprovoked\")& (df[\"Country\"]==\"USA\"),[\"Type\", \"Year\",\"Date\", \"Activity\"]]"
   ]
  },
  {
   "cell_type": "markdown",
   "metadata": {},
   "source": [
    "### 1.3 Country / Area / location\n",
    "Estas tres columnas tambien están relacionadas. \n",
    "\n",
    "Los paises más atacados por sharks son USA y AUSTRALIA. \n"
   ]
  },
  {
   "cell_type": "code",
   "execution_count": 19,
   "metadata": {},
   "outputs": [
    {
     "data": {
      "text/plain": [
       "Area\n",
       "Tyrrhenian Sea    11\n",
       "Sicily             7\n",
       "Adriatic Sea       5\n",
       "Tuscany            4\n",
       "Liguria            4\n",
       "dtype: int64"
      ]
     },
     "execution_count": 19,
     "metadata": {},
     "output_type": "execute_result"
    }
   ],
   "source": [
    "country = df.loc[(df[\"Country\"] == \"ITALY\"),[\"Type\", \"Year\",\"Area\"]]\n",
    "country.value_counts(\"Area\").head()"
   ]
  },
  {
   "cell_type": "code",
   "execution_count": 20,
   "metadata": {},
   "outputs": [
    {
     "data": {
      "text/plain": [
       "Country\n",
       "USA                 2229\n",
       "AUSTRALIA           1338\n",
       "SOUTH AFRICA         579\n",
       "PAPUA NEW GUINEA     134\n",
       "NEW ZEALAND          128\n",
       "BRAZIL               112\n",
       "BAHAMAS              109\n",
       "MEXICO                89\n",
       "ITALY                 71\n",
       "FIJI                  62\n",
       "PHILIPPINES           61\n",
       "REUNION               60\n",
       "NEW CALEDONIA         53\n",
       "CUBA                  46\n",
       "MOZAMBIQUE            45\n",
       "SPAIN                 44\n",
       "INDIA                 40\n",
       "EGYPT                 38\n",
       "JAPAN                 34\n",
       "CROATIA               34\n",
       "PANAMA                32\n",
       "SOLOMON ISLANDS       30\n",
       "IRAN                  29\n",
       "JAMAICA               27\n",
       "GREECE                25\n",
       "dtype: int64"
      ]
     },
     "execution_count": 20,
     "metadata": {},
     "output_type": "execute_result"
    }
   ],
   "source": [
    "df.value_counts(\"Country\").head(25)"
   ]
  },
  {
   "cell_type": "markdown",
   "metadata": {},
   "source": [
    "### 1.4 Name / Sex\n",
    "EL nombre de la columna es \"Sex \", cambiar a \"Sex\"\n",
    "- A veces en sexo pone N, porque son dos personas de distinto sexo  (luego hay otro que es un hombre)\n",
    "- Si está en blanco o con \".\" significa que no tienene el nombre. \n",
    "- Cambiar variables como:  \"M \" a \"M\", \"lli\" a \"M\"\n",
    "\n",
    "Esta categoría, sin mirarla muy de cerca podría verse bien dos categorias facilmente limpiables (Male y Female)"
   ]
  },
  {
   "cell_type": "code",
   "execution_count": 21,
   "metadata": {},
   "outputs": [
    {
     "data": {
      "text/plain": [
       "Sex \n",
       "M      5094\n",
       "F       637\n",
       "N         2\n",
       "M         2\n",
       "lli       1\n",
       ".         1\n",
       "dtype: int64"
      ]
     },
     "execution_count": 21,
     "metadata": {},
     "output_type": "execute_result"
    }
   ],
   "source": [
    "df.value_counts(\"Sex \")"
   ]
  },
  {
   "cell_type": "code",
   "execution_count": 22,
   "metadata": {
    "scrolled": true
   },
   "outputs": [
    {
     "data": {
      "text/html": [
       "<div>\n",
       "<style scoped>\n",
       "    .dataframe tbody tr th:only-of-type {\n",
       "        vertical-align: middle;\n",
       "    }\n",
       "\n",
       "    .dataframe tbody tr th {\n",
       "        vertical-align: top;\n",
       "    }\n",
       "\n",
       "    .dataframe thead th {\n",
       "        text-align: right;\n",
       "    }\n",
       "</style>\n",
       "<table border=\"1\" class=\"dataframe\">\n",
       "  <thead>\n",
       "    <tr style=\"text-align: right;\">\n",
       "      <th></th>\n",
       "      <th>Case Number</th>\n",
       "      <th>Date</th>\n",
       "      <th>Year</th>\n",
       "      <th>Type</th>\n",
       "      <th>Country</th>\n",
       "      <th>Area</th>\n",
       "      <th>Location</th>\n",
       "      <th>Activity</th>\n",
       "      <th>Name</th>\n",
       "      <th>Sex</th>\n",
       "      <th>...</th>\n",
       "      <th>Species</th>\n",
       "      <th>Investigator or Source</th>\n",
       "      <th>pdf</th>\n",
       "      <th>href formula</th>\n",
       "      <th>href</th>\n",
       "      <th>Case Number.1</th>\n",
       "      <th>Case Number.2</th>\n",
       "      <th>original order</th>\n",
       "      <th>Unnamed: 22</th>\n",
       "      <th>Unnamed: 23</th>\n",
       "    </tr>\n",
       "  </thead>\n",
       "  <tbody>\n",
       "    <tr>\n",
       "      <th>1624</th>\n",
       "      <td>2004.11.11.b</td>\n",
       "      <td>11-Nov-2004</td>\n",
       "      <td>2004.0</td>\n",
       "      <td>Unprovoked</td>\n",
       "      <td>USA</td>\n",
       "      <td>California</td>\n",
       "      <td>Bunkers, Humboldt Bay, Eureka, Humboldt County</td>\n",
       "      <td>Surfing</td>\n",
       "      <td>Brian Kang</td>\n",
       "      <td>lli</td>\n",
       "      <td>...</td>\n",
       "      <td>5.5 m [18'] white shark</td>\n",
       "      <td>R. Collier, GSAF</td>\n",
       "      <td>2004.11.11.b-Kang.pdf</td>\n",
       "      <td>http://sharkattackfile.net/spreadsheets/pdf_di...</td>\n",
       "      <td>http://sharkattackfile.net/spreadsheets/pdf_di...</td>\n",
       "      <td>2004.11.11.b</td>\n",
       "      <td>2004.11.11.b</td>\n",
       "      <td>4679.0</td>\n",
       "      <td>NaN</td>\n",
       "      <td>NaN</td>\n",
       "    </tr>\n",
       "  </tbody>\n",
       "</table>\n",
       "<p>1 rows × 24 columns</p>\n",
       "</div>"
      ],
      "text/plain": [
       "       Case Number         Date    Year        Type Country        Area  \\\n",
       "1624  2004.11.11.b  11-Nov-2004  2004.0  Unprovoked     USA  California   \n",
       "\n",
       "                                            Location Activity        Name  \\\n",
       "1624  Bunkers, Humboldt Bay, Eureka, Humboldt County  Surfing  Brian Kang   \n",
       "\n",
       "     Sex   ...                 Species             Investigator or Source  \\\n",
       "1624  lli  ...  5.5 m [18'] white shark  R. Collier, GSAF                   \n",
       "\n",
       "                        pdf  \\\n",
       "1624  2004.11.11.b-Kang.pdf   \n",
       "\n",
       "                                           href formula  \\\n",
       "1624  http://sharkattackfile.net/spreadsheets/pdf_di...   \n",
       "\n",
       "                                                   href Case Number.1  \\\n",
       "1624  http://sharkattackfile.net/spreadsheets/pdf_di...  2004.11.11.b   \n",
       "\n",
       "     Case Number.2 original order Unnamed: 22 Unnamed: 23  \n",
       "1624  2004.11.11.b         4679.0         NaN         NaN  \n",
       "\n",
       "[1 rows x 24 columns]"
      ]
     },
     "execution_count": 22,
     "metadata": {},
     "output_type": "execute_result"
    }
   ],
   "source": [
    "df.loc[df[\"Sex \"] == \"lli\"]"
   ]
  },
  {
   "cell_type": "code",
   "execution_count": 23,
   "metadata": {
    "scrolled": false
   },
   "outputs": [
    {
     "data": {
      "text/html": [
       "<div>\n",
       "<style scoped>\n",
       "    .dataframe tbody tr th:only-of-type {\n",
       "        vertical-align: middle;\n",
       "    }\n",
       "\n",
       "    .dataframe tbody tr th {\n",
       "        vertical-align: top;\n",
       "    }\n",
       "\n",
       "    .dataframe thead th {\n",
       "        text-align: right;\n",
       "    }\n",
       "</style>\n",
       "<table border=\"1\" class=\"dataframe\">\n",
       "  <thead>\n",
       "    <tr style=\"text-align: right;\">\n",
       "      <th></th>\n",
       "      <th>Case Number</th>\n",
       "      <th>Date</th>\n",
       "      <th>Year</th>\n",
       "      <th>Type</th>\n",
       "      <th>Country</th>\n",
       "      <th>Area</th>\n",
       "      <th>Location</th>\n",
       "      <th>Activity</th>\n",
       "      <th>Name</th>\n",
       "      <th>Sex</th>\n",
       "      <th>...</th>\n",
       "      <th>Species</th>\n",
       "      <th>Investigator or Source</th>\n",
       "      <th>pdf</th>\n",
       "      <th>href formula</th>\n",
       "      <th>href</th>\n",
       "      <th>Case Number.1</th>\n",
       "      <th>Case Number.2</th>\n",
       "      <th>original order</th>\n",
       "      <th>Unnamed: 22</th>\n",
       "      <th>Unnamed: 23</th>\n",
       "    </tr>\n",
       "  </thead>\n",
       "  <tbody>\n",
       "    <tr>\n",
       "      <th>4938</th>\n",
       "      <td>1934.07.11</td>\n",
       "      <td>11-Jul-1934</td>\n",
       "      <td>1934.0</td>\n",
       "      <td>Boating</td>\n",
       "      <td>AUSTRALIA</td>\n",
       "      <td>New South Wales</td>\n",
       "      <td>Cronulla</td>\n",
       "      <td>Fishing</td>\n",
       "      <td>18' boat, occupants William &amp; Leslie Newton</td>\n",
       "      <td>N</td>\n",
       "      <td>...</td>\n",
       "      <td>Blue pointer, 11'</td>\n",
       "      <td>G.P. Whitley, ref: Daily Telegraph, 7/11/1934 ...</td>\n",
       "      <td>1934.07.11-Newton-boat-Australia.pdf</td>\n",
       "      <td>http://sharkattackfile.net/spreadsheets/pdf_di...</td>\n",
       "      <td>http://sharkattackfile.net/spreadsheets/pdf_di...</td>\n",
       "      <td>1934.07.11</td>\n",
       "      <td>1934.07.11</td>\n",
       "      <td>1365.0</td>\n",
       "      <td>NaN</td>\n",
       "      <td>NaN</td>\n",
       "    </tr>\n",
       "    <tr>\n",
       "      <th>6131</th>\n",
       "      <td>1801.12.18.R</td>\n",
       "      <td>Reported 18-Dec-1801</td>\n",
       "      <td>1801.0</td>\n",
       "      <td>Provoked</td>\n",
       "      <td>NaN</td>\n",
       "      <td>NaN</td>\n",
       "      <td>NaN</td>\n",
       "      <td>Standing on landed shark's tail</td>\n",
       "      <td>Stephen Pettigew</td>\n",
       "      <td>N</td>\n",
       "      <td>...</td>\n",
       "      <td>12' shark</td>\n",
       "      <td>The Evening Post, 12/18/1801</td>\n",
       "      <td>1801.12.18.R-Pettigrew.pdf</td>\n",
       "      <td>http://sharkattackfile.net/spreadsheets/pdf_di...</td>\n",
       "      <td>http://sharkattackfile.net/spreadsheets/pdf_di...</td>\n",
       "      <td>1801.12.18.R</td>\n",
       "      <td>1801.12.18.R</td>\n",
       "      <td>172.0</td>\n",
       "      <td>NaN</td>\n",
       "      <td>NaN</td>\n",
       "    </tr>\n",
       "  </tbody>\n",
       "</table>\n",
       "<p>2 rows × 24 columns</p>\n",
       "</div>"
      ],
      "text/plain": [
       "       Case Number                  Date    Year      Type    Country  \\\n",
       "4938    1934.07.11           11-Jul-1934  1934.0   Boating  AUSTRALIA   \n",
       "6131  1801.12.18.R  Reported 18-Dec-1801  1801.0  Provoked        NaN   \n",
       "\n",
       "                 Area  Location                         Activity  \\\n",
       "4938  New South Wales  Cronulla                          Fishing   \n",
       "6131              NaN       NaN  Standing on landed shark's tail   \n",
       "\n",
       "                                             Name Sex   ...  \\\n",
       "4938  18' boat, occupants William & Leslie Newton    N  ...   \n",
       "6131                             Stephen Pettigew    N  ...   \n",
       "\n",
       "                Species                              Investigator or Source  \\\n",
       "4938  Blue pointer, 11'   G.P. Whitley, ref: Daily Telegraph, 7/11/1934 ...   \n",
       "6131           12' shark                       The Evening Post, 12/18/1801   \n",
       "\n",
       "                                       pdf  \\\n",
       "4938  1934.07.11-Newton-boat-Australia.pdf   \n",
       "6131            1801.12.18.R-Pettigrew.pdf   \n",
       "\n",
       "                                           href formula  \\\n",
       "4938  http://sharkattackfile.net/spreadsheets/pdf_di...   \n",
       "6131  http://sharkattackfile.net/spreadsheets/pdf_di...   \n",
       "\n",
       "                                                   href Case Number.1  \\\n",
       "4938  http://sharkattackfile.net/spreadsheets/pdf_di...    1934.07.11   \n",
       "6131  http://sharkattackfile.net/spreadsheets/pdf_di...  1801.12.18.R   \n",
       "\n",
       "     Case Number.2 original order Unnamed: 22 Unnamed: 23  \n",
       "4938    1934.07.11         1365.0         NaN         NaN  \n",
       "6131  1801.12.18.R          172.0         NaN         NaN  \n",
       "\n",
       "[2 rows x 24 columns]"
      ]
     },
     "execution_count": 23,
     "metadata": {},
     "output_type": "execute_result"
    }
   ],
   "source": [
    "df.loc[df[\"Sex \"] == \"N\"]"
   ]
  },
  {
   "cell_type": "markdown",
   "metadata": {},
   "source": [
    "### 1.5 Species\n",
    "En \"Species \" vemos 3464 datos de los que podrian ser 6000, esto quiere decir que habrá muchos datos sin poder saber la especie.\n",
    "\n",
    "- Descubrimos que hay algunas datos en los que se dice que los tiburones no estaban confirmados.\n",
    "- Se tieneen muchos tipos, muy mal ordenados. Esta lista no nos sirve como categoria \n",
    "\n",
    "lista de sharks no confirmados:\n",
    "\"\"\"\n",
    " 'Shark involvement suspected but not confirmed': 4,\n",
    " 'Shark involvement questionable': 4,\n",
    " 'Shark involvement prior to death was not confirmed': 105,\n",
    " 'Invalid': 102,\n",
    " 'Shark involvement not confirmed': 88,\n",
    " 'Questionable incident': 35,\n",
    " 'Questionable': 34,\n",
    " 'No shark involvement': 21,\n",
    " 'Shark involvement prior to death not confirmed': 13,\n",
    " 'Shark involvement suspected but not confirmed': 4,\n",
    " 'Shark involvement questionable': 4,\n",
    " 'Questionable Incident': 3,\n",
    " 'Shark involvement not cofirmed': 2 \"\"\""
   ]
  },
  {
   "cell_type": "code",
   "execution_count": 24,
   "metadata": {},
   "outputs": [],
   "source": [
    "No_confirmed = {'Shark involvement suspected but not confirmed': 4,\n",
    "                            'Shark involvement questionable': 4,\n",
    "                            'Shark involvement prior to death was not confirmed': 105,\n",
    "                            'Invalid': 102,\n",
    "                            'Shark involvement not confirmed': 88,\n",
    "                            'Questionable incident': 35, \n",
    "                            'Questionable': 34,\n",
    "                            'No shark involvement': 21,\n",
    "                            'Shark involvement prior to death not confirmed': 13,\n",
    "                            'Shark involvement suspected but not confirmed': 4,\n",
    "                            'Shark involvement questionable': 4,\n",
    "                            'Questionable Incident': 3,\n",
    "                            'Shark involvement not cofirmed': 2}"
   ]
  },
  {
   "cell_type": "code",
   "execution_count": 25,
   "metadata": {},
   "outputs": [
    {
     "data": {
      "text/plain": [
       "dict_keys(['Shark involvement suspected but not confirmed', 'Shark involvement questionable', 'Shark involvement prior to death was not confirmed', 'Invalid', 'Shark involvement not confirmed', 'Questionable incident', 'Questionable', 'No shark involvement', 'Shark involvement prior to death not confirmed', 'Questionable Incident', 'Shark involvement not cofirmed'])"
      ]
     },
     "execution_count": 25,
     "metadata": {},
     "output_type": "execute_result"
    }
   ],
   "source": [
    "No_confirmed.keys()"
   ]
  },
  {
   "cell_type": "code",
   "execution_count": 30,
   "metadata": {},
   "outputs": [
    {
     "data": {
      "text/plain": [
       "Species \n",
       "White shark                                           163\n",
       "Shark involvement prior to death was not confirmed    105\n",
       "Invalid                                               102\n",
       "Shark involvement not confirmed                        88\n",
       "Tiger shark                                            73\n",
       "                                                     ... \n",
       "Lemon shark, 4' to 5'                                   1\n",
       "Lemon shark, 6'                                         1\n",
       "Lemon shark, 6' female                                  1\n",
       "Lemon shark, 9'                                         1\n",
       "Blue shark?                                             1\n",
       "Length: 1549, dtype: int64"
      ]
     },
     "execution_count": 30,
     "metadata": {},
     "output_type": "execute_result"
    }
   ],
   "source": [
    "df.value_counts(\"Species \")"
   ]
  },
  {
   "cell_type": "code",
   "execution_count": 27,
   "metadata": {},
   "outputs": [
    {
     "data": {
      "text/plain": [
       "Type\n",
       "Invalid    68\n",
       "dtype: int64"
      ]
     },
     "execution_count": 27,
     "metadata": {},
     "output_type": "execute_result"
    }
   ],
   "source": [
    "not_confirmed = df.loc[df[\"Species \"] == 'Shark involvement prior to death unconfirmed']\n",
    "not_confirmed.value_counts(\"Type\")"
   ]
  },
  {
   "cell_type": "markdown",
   "metadata": {},
   "source": [
    "### 1.6 Rest of values\n",
    "Investigator or Source:\n"
   ]
  },
  {
   "cell_type": "code",
   "execution_count": 28,
   "metadata": {},
   "outputs": [
    {
     "data": {
      "text/plain": [
       "Case Number.2\n",
       "2009.12.18        2\n",
       "1983.06.15        2\n",
       "1907.10.16.R      2\n",
       "2013.10.05        2\n",
       "1915.07.06.a.R    2\n",
       "                 ..\n",
       "2001.01.06        1\n",
       "2001.01.09        1\n",
       "2001.01.21        1\n",
       "2001.01.24        1\n",
       "0000.0214         1\n",
       "Length: 6286, dtype: int64"
      ]
     },
     "execution_count": 28,
     "metadata": {},
     "output_type": "execute_result"
    }
   ],
   "source": [
    "df.value_counts(\"Case Number.2\")"
   ]
  },
  {
   "cell_type": "code",
   "execution_count": 29,
   "metadata": {},
   "outputs": [
    {
     "data": {
      "text/html": [
       "<div>\n",
       "<style scoped>\n",
       "    .dataframe tbody tr th:only-of-type {\n",
       "        vertical-align: middle;\n",
       "    }\n",
       "\n",
       "    .dataframe tbody tr th {\n",
       "        vertical-align: top;\n",
       "    }\n",
       "\n",
       "    .dataframe thead th {\n",
       "        text-align: right;\n",
       "    }\n",
       "</style>\n",
       "<table border=\"1\" class=\"dataframe\">\n",
       "  <thead>\n",
       "    <tr style=\"text-align: right;\">\n",
       "      <th></th>\n",
       "      <th>Case Number</th>\n",
       "      <th>Date</th>\n",
       "      <th>Year</th>\n",
       "      <th>Type</th>\n",
       "      <th>Country</th>\n",
       "      <th>Area</th>\n",
       "      <th>Location</th>\n",
       "      <th>Activity</th>\n",
       "      <th>Name</th>\n",
       "      <th>Sex</th>\n",
       "      <th>...</th>\n",
       "      <th>Species</th>\n",
       "      <th>Investigator or Source</th>\n",
       "      <th>pdf</th>\n",
       "      <th>href formula</th>\n",
       "      <th>href</th>\n",
       "      <th>Case Number.1</th>\n",
       "      <th>Case Number.2</th>\n",
       "      <th>original order</th>\n",
       "      <th>Unnamed: 22</th>\n",
       "      <th>Unnamed: 23</th>\n",
       "    </tr>\n",
       "  </thead>\n",
       "  <tbody>\n",
       "    <tr>\n",
       "      <th>2937</th>\n",
       "      <td>1983.06.15</td>\n",
       "      <td>15-Jun-1983</td>\n",
       "      <td>1983.0</td>\n",
       "      <td>Unprovoked</td>\n",
       "      <td>BAHAMAS</td>\n",
       "      <td>NaN</td>\n",
       "      <td>Carter Cay</td>\n",
       "      <td>NaN</td>\n",
       "      <td>Roger Yost</td>\n",
       "      <td>M</td>\n",
       "      <td>...</td>\n",
       "      <td>6' blacktip shark</td>\n",
       "      <td>E.  Pace, FSAF</td>\n",
       "      <td>1983.06.15-NV-Yost.pdf</td>\n",
       "      <td>http://sharkattackfile.net/spreadsheets/pdf_di...</td>\n",
       "      <td>http://sharkattackfile.net/spreadsheets/pdf_di...</td>\n",
       "      <td>1983.06.15</td>\n",
       "      <td>1983.06.15</td>\n",
       "      <td>3366.0</td>\n",
       "      <td>NaN</td>\n",
       "      <td>NaN</td>\n",
       "    </tr>\n",
       "    <tr>\n",
       "      <th>2938</th>\n",
       "      <td>1983.06.15</td>\n",
       "      <td>15-Jun-1983</td>\n",
       "      <td>1983.0</td>\n",
       "      <td>Invalid</td>\n",
       "      <td>ITALY</td>\n",
       "      <td>Northwest Italy</td>\n",
       "      <td>Riomaggiore (Ligura)</td>\n",
       "      <td>Scuba diving</td>\n",
       "      <td>Roberto Piaviali</td>\n",
       "      <td>M</td>\n",
       "      <td>...</td>\n",
       "      <td>Questionable incident</td>\n",
       "      <td>MEDSAF</td>\n",
       "      <td>1983.06.15-Piaviali.pdf</td>\n",
       "      <td>http://sharkattackfile.net/spreadsheets/pdf_di...</td>\n",
       "      <td>http://sharkattackfile.net/spreadsheets/pdf_di...</td>\n",
       "      <td>1983.06.15</td>\n",
       "      <td>1983.06.15</td>\n",
       "      <td>3365.0</td>\n",
       "      <td>NaN</td>\n",
       "      <td>NaN</td>\n",
       "    </tr>\n",
       "  </tbody>\n",
       "</table>\n",
       "<p>2 rows × 24 columns</p>\n",
       "</div>"
      ],
      "text/plain": [
       "     Case Number         Date    Year        Type  Country             Area  \\\n",
       "2937  1983.06.15  15-Jun-1983  1983.0  Unprovoked  BAHAMAS              NaN   \n",
       "2938  1983.06.15  15-Jun-1983  1983.0     Invalid    ITALY  Northwest Italy   \n",
       "\n",
       "                  Location      Activity              Name Sex   ...  \\\n",
       "2937            Carter Cay           NaN        Roger Yost    M  ...   \n",
       "2938  Riomaggiore (Ligura)  Scuba diving  Roberto Piaviali    M  ...   \n",
       "\n",
       "                   Species  Investigator or Source                      pdf  \\\n",
       "2937      6' blacktip shark         E.  Pace, FSAF   1983.06.15-NV-Yost.pdf   \n",
       "2938  Questionable incident                 MEDSAF  1983.06.15-Piaviali.pdf   \n",
       "\n",
       "                                           href formula  \\\n",
       "2937  http://sharkattackfile.net/spreadsheets/pdf_di...   \n",
       "2938  http://sharkattackfile.net/spreadsheets/pdf_di...   \n",
       "\n",
       "                                                   href Case Number.1  \\\n",
       "2937  http://sharkattackfile.net/spreadsheets/pdf_di...    1983.06.15   \n",
       "2938  http://sharkattackfile.net/spreadsheets/pdf_di...    1983.06.15   \n",
       "\n",
       "     Case Number.2 original order Unnamed: 22 Unnamed: 23  \n",
       "2937    1983.06.15         3366.0         NaN         NaN  \n",
       "2938    1983.06.15         3365.0         NaN         NaN  \n",
       "\n",
       "[2 rows x 24 columns]"
      ]
     },
     "execution_count": 29,
     "metadata": {},
     "output_type": "execute_result"
    }
   ],
   "source": [
    "df.loc[df[\"Case Number.2\"]== \"1983.06.15\"]"
   ]
  },
  {
   "cell_type": "code",
   "execution_count": null,
   "metadata": {},
   "outputs": [],
   "source": [
    "df.value_counts(\"Area\")"
   ]
  },
  {
   "cell_type": "code",
   "execution_count": null,
   "metadata": {},
   "outputs": [],
   "source": []
  }
 ],
 "metadata": {
  "kernelspec": {
   "display_name": "ironhack",
   "language": "python",
   "name": "ironhack"
  },
  "language_info": {
   "codemirror_mode": {
    "name": "ipython",
    "version": 3
   },
   "file_extension": ".py",
   "mimetype": "text/x-python",
   "name": "python",
   "nbconvert_exporter": "python",
   "pygments_lexer": "ipython3",
   "version": "3.8.5"
  }
 },
 "nbformat": 4,
 "nbformat_minor": 4
}
