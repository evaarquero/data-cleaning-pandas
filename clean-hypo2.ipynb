{
 "cells": [
  {
   "cell_type": "code",
   "execution_count": 1,
   "metadata": {},
   "outputs": [],
   "source": [
    "# Libraries\n",
    "import numpy as np\n",
    "# Your Code Here\n",
    "import pandas as pd\n",
    "import seaborn as sns\n",
    "import matplotlib.pyplot as plt\n",
    "import plotly.express as px\n",
    "import regex as re"
   ]
  },
  {
   "cell_type": "code",
   "execution_count": 1,
   "metadata": {},
   "outputs": [],
   "source": [
    "import sys\n",
    "sys.path.append(\"../\")\n",
    "from src.functions import *"
   ]
  },
  {
   "cell_type": "code",
   "execution_count": 2,
   "metadata": {},
   "outputs": [],
   "source": [
    "sns.set_context(\"poster\")\n",
    "sns.set(rc={'figure.figsize': (20.,6.)})\n",
    "sns.set_style('whitegrid')"
   ]
  },
  {
   "cell_type": "code",
   "execution_count": 3,
   "metadata": {},
   "outputs": [],
   "source": [
    "df_main = pd.read_csv(\"data/attacks.csv\",encoding = \"ISO-8859-1\")"
   ]
  },
  {
   "cell_type": "code",
   "execution_count": 4,
   "metadata": {},
   "outputs": [],
   "source": [
    "df = df_main.copy()\n",
    "df.dropna(axis = 0, how = 'all', inplace = True)"
   ]
  },
  {
   "cell_type": "code",
   "execution_count": 5,
   "metadata": {},
   "outputs": [
    {
     "name": "stdout",
     "output_type": "stream",
     "text": [
      "<class 'pandas.core.frame.DataFrame'>\n",
      "Int64Index: 8703 entries, 0 to 25722\n",
      "Data columns (total 24 columns):\n",
      " #   Column                  Non-Null Count  Dtype  \n",
      "---  ------                  --------------  -----  \n",
      " 0   Case Number             8702 non-null   object \n",
      " 1   Date                    6302 non-null   object \n",
      " 2   Year                    6300 non-null   float64\n",
      " 3   Type                    6298 non-null   object \n",
      " 4   Country                 6252 non-null   object \n",
      " 5   Area                    5847 non-null   object \n",
      " 6   Location                5762 non-null   object \n",
      " 7   Activity                5758 non-null   object \n",
      " 8   Name                    6092 non-null   object \n",
      " 9   Sex                     5737 non-null   object \n",
      " 10  Age                     3471 non-null   object \n",
      " 11  Injury                  6274 non-null   object \n",
      " 12  Fatal (Y/N)             5763 non-null   object \n",
      " 13  Time                    2948 non-null   object \n",
      " 14  Species                 3464 non-null   object \n",
      " 15  Investigator or Source  6285 non-null   object \n",
      " 16  pdf                     6302 non-null   object \n",
      " 17  href formula            6301 non-null   object \n",
      " 18  href                    6302 non-null   object \n",
      " 19  Case Number.1           6302 non-null   object \n",
      " 20  Case Number.2           6302 non-null   object \n",
      " 21  original order          6309 non-null   float64\n",
      " 22  Unnamed: 22             1 non-null      object \n",
      " 23  Unnamed: 23             2 non-null      object \n",
      "dtypes: float64(2), object(22)\n",
      "memory usage: 1.7+ MB\n"
     ]
    }
   ],
   "source": [
    "df.info()"
   ]
  },
  {
   "cell_type": "code",
   "execution_count": 6,
   "metadata": {},
   "outputs": [
    {
     "data": {
      "text/plain": [
       "Case Number                  1\n",
       "Date                      2401\n",
       "Year                      2403\n",
       "Type                      2405\n",
       "Country                   2451\n",
       "Area                      2856\n",
       "Location                  2941\n",
       "Activity                  2945\n",
       "Name                      2611\n",
       "Sex                       2966\n",
       "Age                       5232\n",
       "Injury                    2429\n",
       "Fatal (Y/N)               2940\n",
       "Time                      5755\n",
       "Species                   5239\n",
       "Investigator or Source    2418\n",
       "pdf                       2401\n",
       "href formula              2402\n",
       "href                      2401\n",
       "Case Number.1             2401\n",
       "Case Number.2             2401\n",
       "original order            2394\n",
       "Unnamed: 22               8702\n",
       "Unnamed: 23               8701\n",
       "dtype: int64"
      ]
     },
     "execution_count": 6,
     "metadata": {},
     "output_type": "execute_result"
    }
   ],
   "source": [
    "df.isna().sum()"
   ]
  },
  {
   "cell_type": "code",
   "execution_count": 7,
   "metadata": {},
   "outputs": [],
   "source": [
    "df =df.rename(columns={'Fatal (Y/N)': 'Fatality', 'Sex ': 'Sex','Case Number': 'Case_number', 'Species ':'Species'})"
   ]
  },
  {
   "cell_type": "code",
   "execution_count": 8,
   "metadata": {},
   "outputs": [],
   "source": [
    "df.drop(df[df[\"Case_number\"] == \"0\"].index,  inplace=True) "
   ]
  },
  {
   "cell_type": "code",
   "execution_count": 9,
   "metadata": {},
   "outputs": [],
   "source": [
    "df.drop(df[df[\"Case_number\"] == \"xx\"].index,  inplace=True) "
   ]
  },
  {
   "cell_type": "code",
   "execution_count": 10,
   "metadata": {},
   "outputs": [
    {
     "data": {
      "text/plain": [
       "{'N': 4293,\n",
       " 'Y': 1388,\n",
       " 'UNKNOWN': 71,\n",
       " ' N': 7,\n",
       " 'y': 1,\n",
       " 'N ': 1,\n",
       " 'M': 1,\n",
       " '2017': 1}"
      ]
     },
     "execution_count": 10,
     "metadata": {},
     "output_type": "execute_result"
    }
   ],
   "source": [
    "dict(df.value_counts(\"Fatality\"))"
   ]
  },
  {
   "cell_type": "code",
   "execution_count": 11,
   "metadata": {},
   "outputs": [],
   "source": [
    "df[\"Fatality\"] = df[\"Fatality\"].replace([\" N\", \"N \"], \"N\")"
   ]
  },
  {
   "cell_type": "code",
   "execution_count": 12,
   "metadata": {},
   "outputs": [],
   "source": [
    "df[\"Fatality\"] = df[\"Fatality\"].replace([\"y\"], \"Y\")"
   ]
  },
  {
   "cell_type": "code",
   "execution_count": 13,
   "metadata": {},
   "outputs": [],
   "source": [
    "df[\"Fatality\"] = df[\"Fatality\"].replace([\"M\", \"2017\"], \"UNKNOWN\")"
   ]
  },
  {
   "cell_type": "code",
   "execution_count": 14,
   "metadata": {},
   "outputs": [
    {
     "data": {
      "text/plain": [
       "Fatality\n",
       "N          4301\n",
       "Y          1389\n",
       "UNKNOWN      73\n",
       "dtype: int64"
      ]
     },
     "execution_count": 14,
     "metadata": {},
     "output_type": "execute_result"
    }
   ],
   "source": [
    "df.value_counts(\"Fatality\")"
   ]
  },
  {
   "cell_type": "code",
   "execution_count": 15,
   "metadata": {},
   "outputs": [],
   "source": [
    "df.dropna(subset=[\"Fatality\"], inplace = True)"
   ]
  },
  {
   "cell_type": "code",
   "execution_count": 16,
   "metadata": {},
   "outputs": [
    {
     "data": {
      "text/plain": [
       "Case_number                  1\n",
       "Date                         0\n",
       "Year                         1\n",
       "Type                         3\n",
       "Country                     45\n",
       "Area                       404\n",
       "Location                   483\n",
       "Activity                   419\n",
       "Name                       153\n",
       "Sex                        487\n",
       "Age                       2519\n",
       "Injury                      21\n",
       "Fatality                     0\n",
       "Time                      2961\n",
       "Species                   2815\n",
       "Investigator or Source      12\n",
       "pdf                          0\n",
       "href formula                 1\n",
       "href                         0\n",
       "Case Number.1                0\n",
       "Case Number.2                0\n",
       "original order               0\n",
       "Unnamed: 22               5762\n",
       "Unnamed: 23               5761\n",
       "dtype: int64"
      ]
     },
     "execution_count": 16,
     "metadata": {},
     "output_type": "execute_result"
    }
   ],
   "source": [
    "df.isna().sum()"
   ]
  },
  {
   "cell_type": "code",
   "execution_count": 17,
   "metadata": {},
   "outputs": [
    {
     "data": {
      "text/plain": [
       "Year\n",
       "2015.0    130\n",
       "0.0       124\n",
       "2017.0    123\n",
       "2016.0    119\n",
       "2014.0    118\n",
       "         ... \n",
       "1787.0      1\n",
       "1786.0      1\n",
       "1785.0      1\n",
       "1784.0      1\n",
       "1804.0      1\n",
       "Length: 242, dtype: int64"
      ]
     },
     "execution_count": 17,
     "metadata": {},
     "output_type": "execute_result"
    }
   ],
   "source": [
    "df.value_counts(\"Year\")"
   ]
  },
  {
   "cell_type": "code",
   "execution_count": 18,
   "metadata": {
    "scrolled": true
   },
   "outputs": [],
   "source": [
    "df.drop(df[df[\"Year\"] < 1900].index, inplace=True) "
   ]
  },
  {
   "cell_type": "code",
   "execution_count": 19,
   "metadata": {},
   "outputs": [],
   "source": [
    "df.dropna(subset=[\"Year\"], inplace = True)"
   ]
  },
  {
   "cell_type": "code",
   "execution_count": 20,
   "metadata": {},
   "outputs": [
    {
     "data": {
      "text/plain": [
       "Index(['Case_number', 'Date', 'Year', 'Type', 'Country', 'Area', 'Location',\n",
       "       'Activity', 'Name', 'Sex', 'Age', 'Injury', 'Fatality', 'Time',\n",
       "       'Species', 'Investigator or Source', 'pdf', 'href formula', 'href',\n",
       "       'Case Number.1', 'Case Number.2', 'original order', 'Unnamed: 22',\n",
       "       'Unnamed: 23'],\n",
       "      dtype='object')"
      ]
     },
     "execution_count": 20,
     "metadata": {},
     "output_type": "execute_result"
    }
   ],
   "source": [
    "df.columns"
   ]
  },
  {
   "cell_type": "markdown",
   "metadata": {},
   "source": [
    "Before being able to see the real fatality, there is need to clean the following not confirmed cases, which were described in Species column. "
   ]
  },
  {
   "cell_type": "code",
   "execution_count": 21,
   "metadata": {},
   "outputs": [],
   "source": [
    "no_confirmed = {'Shark involvement suspected but not confirmed': 4,\n",
    "                'Shark involvement questionable': 4,\n",
    "                'Shark involvement prior to death was not confirmed': 105,\n",
    "                'Invalid': 102,\n",
    "                'Shark involvement not confirmed': 88,\n",
    "                'Questionable incident': 35, \n",
    "                'Questionable': 34,\n",
    "                'No shark involvement': 21,\n",
    "                'Shark involvement prior to death not confirmed': 13,\n",
    "                'Shark involvement suspected but not confirmed': 4,\n",
    "                'Shark involvement questionable': 4,\n",
    "                'Questionable Incident': 3,\n",
    "                'Shark involvement not cofirmed': 2}"
   ]
  },
  {
   "cell_type": "code",
   "execution_count": 22,
   "metadata": {},
   "outputs": [],
   "source": [
    "df.drop(df[df[\"Species\"] == 'Shark involvement suspected but not confirmed'].index, inplace=True) "
   ]
  },
  {
   "cell_type": "code",
   "execution_count": 23,
   "metadata": {},
   "outputs": [],
   "source": [
    "df.drop(df[df[\"Species\"] == 'Shark involvement questionable'].index, inplace=True) \n",
    "df.drop(df[df[\"Species\"] == 'Shark involvement prior to death was not confirmed'].index, inplace=True)\n",
    "df.drop(df[df[\"Species\"] == 'Invalid'].index, inplace=True)\n",
    "df.drop(df[df[\"Species\"] == 'Invalid'].index, inplace=True)\n",
    "df.drop(df[df[\"Species\"] == 'Shark involvement not confirmed'].index, inplace=True)\n",
    "df.drop(df[df[\"Species\"] == 'Questionable incident'].index, inplace=True)\n",
    "df.drop(df[df[\"Species\"] == 'Questionable'].index, inplace=True)\n",
    "df.drop(df[df[\"Species\"] == 'No shark involvement'].index, inplace=True)\n",
    "df.drop(df[df[\"Species\"] == 'Shark involvement prior to death not confirmed'].index, inplace=True)\n",
    "df.drop(df[df[\"Species\"] == 'Shark involvement suspected but not confirmed'].index, inplace=True)\n",
    "df.drop(df[df[\"Species\"] == 'Shark involvement questionable'].index, inplace=True)\n",
    "df.drop(df[df[\"Species\"] == 'Questionable Incident'].index, inplace=True)\n",
    "df.drop(df[df[\"Species\"] == 'Shark involvement not cofirmed'].index, inplace=True)\n",
    "\n",
    "\n"
   ]
  },
  {
   "cell_type": "markdown",
   "metadata": {},
   "source": [
    "for i in no_confirmed:\n",
    "    for j,row in df.iterrows():\n",
    "        count = 0 \n",
    "        if j == pd.isna(df[\"Species\"].item):\n",
    "            count += 1\n",
    "            pass\n",
    "        else:\n",
    "            if j == i:\n",
    "                print(j)      \n",
    "count"
   ]
  },
  {
   "cell_type": "markdown",
   "metadata": {},
   "source": [
    "for i in no_confirmed.keys():\n",
    "    for j,row in df.iterrows():\n",
    "        j = row[\"Species\"]\n",
    "        if j == i:\n",
    "            print(i)\n",
    "            print(j)\n",
    "            count+=1\n",
    "        elif j != i:\n",
    "            count = 0\n"
   ]
  },
  {
   "cell_type": "code",
   "execution_count": 24,
   "metadata": {
    "scrolled": true
   },
   "outputs": [
    {
     "data": {
      "text/html": [
       "<div>\n",
       "<style scoped>\n",
       "    .dataframe tbody tr th:only-of-type {\n",
       "        vertical-align: middle;\n",
       "    }\n",
       "\n",
       "    .dataframe tbody tr th {\n",
       "        vertical-align: top;\n",
       "    }\n",
       "\n",
       "    .dataframe thead th {\n",
       "        text-align: right;\n",
       "    }\n",
       "</style>\n",
       "<table border=\"1\" class=\"dataframe\">\n",
       "  <thead>\n",
       "    <tr style=\"text-align: right;\">\n",
       "      <th></th>\n",
       "      <th>Case_number</th>\n",
       "      <th>Date</th>\n",
       "      <th>Year</th>\n",
       "      <th>Type</th>\n",
       "      <th>Country</th>\n",
       "      <th>Area</th>\n",
       "      <th>Location</th>\n",
       "      <th>Activity</th>\n",
       "      <th>Name</th>\n",
       "      <th>Sex</th>\n",
       "      <th>...</th>\n",
       "      <th>Species</th>\n",
       "      <th>Investigator or Source</th>\n",
       "      <th>pdf</th>\n",
       "      <th>href formula</th>\n",
       "      <th>href</th>\n",
       "      <th>Case Number.1</th>\n",
       "      <th>Case Number.2</th>\n",
       "      <th>original order</th>\n",
       "      <th>Unnamed: 22</th>\n",
       "      <th>Unnamed: 23</th>\n",
       "    </tr>\n",
       "  </thead>\n",
       "  <tbody>\n",
       "  </tbody>\n",
       "</table>\n",
       "<p>0 rows × 24 columns</p>\n",
       "</div>"
      ],
      "text/plain": [
       "Empty DataFrame\n",
       "Columns: [Case_number, Date, Year, Type, Country, Area, Location, Activity, Name, Sex, Age, Injury, Fatality, Time, Species, Investigator or Source, pdf, href formula, href, Case Number.1, Case Number.2, original order, Unnamed: 22, Unnamed: 23]\n",
       "Index: []\n",
       "\n",
       "[0 rows x 24 columns]"
      ]
     },
     "execution_count": 24,
     "metadata": {},
     "output_type": "execute_result"
    }
   ],
   "source": [
    "df.loc[df[\"Species\"] == 'Shark involvement prior to death not confirmed']"
   ]
  },
  {
   "cell_type": "code",
   "execution_count": 25,
   "metadata": {},
   "outputs": [],
   "source": [
    "df.drop(axis=0, index=None, columns = [\"Unnamed: 23\", \"Unnamed: 22\", \"original order\",\"Case Number.2\",\"Case Number.1\",\"href\", \"href formula\",\"pdf\",\"Investigator or Source\", \"Injury\"], inplace=True)"
   ]
  },
  {
   "cell_type": "code",
   "execution_count": 26,
   "metadata": {},
   "outputs": [
    {
     "data": {
      "text/plain": [
       "{'M': 4098, 'F': 544, 'M ': 2, 'lli': 1, 'N': 1, '.': 1}"
      ]
     },
     "execution_count": 26,
     "metadata": {},
     "output_type": "execute_result"
    }
   ],
   "source": [
    "dict(df.value_counts(\"Sex\"))"
   ]
  },
  {
   "cell_type": "code",
   "execution_count": 27,
   "metadata": {},
   "outputs": [],
   "source": [
    "df[\"Sex\"] = df[\"Sex\"].replace([\"M \", \"lli\"], \"M\")\n",
    "df[\"Sex\"] = df[\"Sex\"].replace([\"N\"], \"F\")\n",
    "df[\"Sex\"] = df[\"Sex\"].replace([\".\"], \"F\")"
   ]
  },
  {
   "cell_type": "code",
   "execution_count": 28,
   "metadata": {},
   "outputs": [],
   "source": [
    "nuevo = []\n",
    "for i,row in df.iterrows():\n",
    "    nuevo.append(re.findall(\"Jan|Feb|Mar|Apr|May|Jun|Jul|Aug|Sep|Oct|Nov|Dec\", str(row[\"Date\"])))\n",
    "\n",
    "df[\"Month\"] =list(nuevo)"
   ]
  },
  {
   "cell_type": "code",
   "execution_count": 29,
   "metadata": {},
   "outputs": [
    {
     "data": {
      "text/plain": [
       "Month\n",
       "Jul    557\n",
       "Aug    482\n",
       "Sep    470\n",
       "Jan    421\n",
       "Jun    413\n",
       "Oct    385\n",
       "Apr    371\n",
       "Dec    358\n",
       "Mar    347\n",
       "Nov    345\n",
       "May    335\n",
       "Feb    332\n",
       "dtype: int64"
      ]
     },
     "execution_count": 29,
     "metadata": {},
     "output_type": "execute_result"
    }
   ],
   "source": [
    "df[\"Month\"] = df.Month.apply(pd.Series)[0]\n",
    "df.value_counts(\"Month\")"
   ]
  },
  {
   "cell_type": "code",
   "execution_count": 30,
   "metadata": {},
   "outputs": [],
   "source": [
    "df.dropna(subset=[\"Month\"], inplace=True)"
   ]
  },
  {
   "cell_type": "code",
   "execution_count": 31,
   "metadata": {
    "scrolled": true
   },
   "outputs": [
    {
     "data": {
      "image/png": "[encoded data removed]",
      "text/plain": [
       "<Figure size 1440x432 with 1 Axes>"
      ]
     },
     "metadata": {},
     "output_type": "display_data"
    }
   ],
   "source": [
    "sns.histplot(data=df, x=\"Month\",bins=50);"
   ]
  },
  {
   "cell_type": "code",
   "execution_count": null,
   "metadata": {},
   "outputs": [],
   "source": [
    "%matplotlib inline\n",
    "surf_df.Country.value_counts().nlargest(5).plot.pie(labels=['USA', 'AUSTRALIA', 'SOUTH AFRICA', 'BRAZIL', 'REUNION'], fontsize=15, figsize=(6, 6), colors = ('#9dbd00','#66b3ff','#db90"
   ]
  },
  {
   "cell_type": "code",
   "execution_count": 32,
   "metadata": {},
   "outputs": [],
   "source": [
    "df_AU = df[(df[\"Country\"] == \"USA\")|(df[\"Country\"] == \"AUSTRALIA\")]"
   ]
  },
  {
   "cell_type": "code",
   "execution_count": 33,
   "metadata": {},
   "outputs": [
    {
     "data": {
      "image/png": "[encoded data removed]",
      "text/plain": [
       "<Figure size 1440x432 with 1 Axes>"
      ]
     },
     "metadata": {},
     "output_type": "display_data"
    }
   ],
   "source": [
    "sns.histplot(data=df_AU, x=\"Month\", hue=\"Country\",bins=50);"
   ]
  },
  {
   "cell_type": "markdown",
   "metadata": {},
   "source": [
    "It is difficult to see the impact of the seasons in the shark attacks, as we can see depending on the country it might be more trickier to see the impact. Therefore we will take the country with more cases (USA). "
   ]
  },
  {
   "cell_type": "code",
   "execution_count": 34,
   "metadata": {},
   "outputs": [],
   "source": [
    "df_USA = df_AU[(df[\"Country\"] == \"USA\")]"
   ]
  },
  {
   "cell_type": "code",
   "execution_count": 35,
   "metadata": {},
   "outputs": [],
   "source": [
    "months_order = ['Jan', 'Feb', \"Mar\", \"Apr\", \"May\", \"Jun\", \"Jul\", \"Aug\",\"Sep\",\"Oct\",\"Nov\",\"Dec\"]"
   ]
  },
  {
   "cell_type": "markdown",
   "metadata": {},
   "source": [
    "# COMO PONER LOS MESES EN ORDEN??  "
   ]
  },
  {
   "cell_type": "code",
   "execution_count": 36,
   "metadata": {},
   "outputs": [
    {
     "data": {
      "image/png": "[encoded data removed]",
      "text/plain": [
       "<Figure size 1440x432 with 1 Axes>"
      ]
     },
     "metadata": {},
     "output_type": "display_data"
    }
   ],
   "source": [
    "fig6 = sns.histplot(data=df_USA, x=\"Month\");\n",
    "plt.xlabel(\"Months\");\n",
    "plt.ylabel(\"Shark Attacks\");\n",
    "plt.show(fig6)"
   ]
  },
  {
   "cell_type": "markdown",
   "metadata": {},
   "source": [
    "Qué pasa con las estaciones dependiendo en el area que estes? "
   ]
  },
  {
   "cell_type": "code",
   "execution_count": 37,
   "metadata": {},
   "outputs": [
    {
     "data": {
      "text/plain": [
       "{'Florida': 922,\n",
       " 'California': 251,\n",
       " 'Hawaii': 232,\n",
       " 'South Carolina': 124,\n",
       " 'North Carolina': 79,\n",
       " 'Texas': 61,\n",
       " 'New Jersey': 35,\n",
       " 'Oregon': 29,\n",
       " 'Puerto Rico': 14,\n",
       " 'Georgia': 12,\n",
       " 'Alabama': 11,\n",
       " 'Massachusetts': 11,\n",
       " 'Virginia': 10,\n",
       " 'Louisiana': 10,\n",
       " 'New York': 9,\n",
       " 'Delaware': 6,\n",
       " 'Maryland': 5,\n",
       " 'US Virgin Islands': 5,\n",
       " 'Mississippi': 4,\n",
       " 'Connecticut': 3,\n",
       " 'Rhode Island': 3,\n",
       " 'Palmyra Atoll': 2,\n",
       " 'Washington': 2,\n",
       " 'Guam': 1,\n",
       " 'Alaska': 1,\n",
       " 'Florida ': 1,\n",
       " 'Midway Atoll': 1,\n",
       " 'Johnston Atoll': 1,\n",
       " 'Kentucky': 1,\n",
       " 'Maine': 1,\n",
       " 'Wake Island': 1,\n",
       " 'Missouri': 1,\n",
       " 'New Mexico': 1,\n",
       " 'Pennsylvania': 1,\n",
       " 'South Carolina ': 1,\n",
       " ' North Carolina': 1}"
      ]
     },
     "execution_count": 37,
     "metadata": {},
     "output_type": "execute_result"
    }
   ],
   "source": [
    "dict(df_USA.value_counts(\"Area\"))"
   ]
  },
  {
   "cell_type": "code",
   "execution_count": 38,
   "metadata": {},
   "outputs": [],
   "source": [
    "df_USA[\"Area\"] = df_USA[\"Area\"].replace([\" North Carolina\"], \"North Carolina\")"
   ]
  },
  {
   "cell_type": "code",
   "execution_count": 39,
   "metadata": {},
   "outputs": [],
   "source": [
    "df_USA[\"Area\"] = df_USA[\"Area\"].replace([\"South Carolina \"], \"South Carolina\")"
   ]
  },
  {
   "cell_type": "code",
   "execution_count": 44,
   "metadata": {},
   "outputs": [],
   "source": [
    "df_USA.dropna(subset=[\"Area\"], inplace = True)"
   ]
  },
  {
   "cell_type": "code",
   "execution_count": 45,
   "metadata": {},
   "outputs": [
    {
     "data": {
      "text/plain": [
       "Case_number      1\n",
       "Date             0\n",
       "Year             0\n",
       "Type             0\n",
       "Country          0\n",
       "Area             0\n",
       "Location        26\n",
       "Activity        87\n",
       "Name            15\n",
       "Sex             71\n",
       "Age            471\n",
       "Fatality         0\n",
       "Time           568\n",
       "Species        771\n",
       "Month            0\n",
       "dtype: int64"
      ]
     },
     "execution_count": 45,
     "metadata": {},
     "output_type": "execute_result"
    }
   ],
   "source": [
    "df_USA.isna().sum()"
   ]
  },
  {
   "cell_type": "code",
   "execution_count": 48,
   "metadata": {},
   "outputs": [
    {
     "name": "stderr",
     "output_type": "stream",
     "text": [
      "<ipython-input-48-7f266b3ea842>:1: FutureWarning: Indexing with multiple keys (implicitly converted to a tuple of keys) will be deprecated, use a list instead.\n",
      "  df.groupby(['Country', 'Area']) ['Year', 'Type', 'Activity','Fatality','Sex'].count()\n"
     ]
    },
    {
     "data": {
      "text/html": [
       "<div>\n",
       "<style scoped>\n",
       "    .dataframe tbody tr th:only-of-type {\n",
       "        vertical-align: middle;\n",
       "    }\n",
       "\n",
       "    .dataframe tbody tr th {\n",
       "        vertical-align: top;\n",
       "    }\n",
       "\n",
       "    .dataframe thead th {\n",
       "        text-align: right;\n",
       "    }\n",
       "</style>\n",
       "<table border=\"1\" class=\"dataframe\">\n",
       "  <thead>\n",
       "    <tr style=\"text-align: right;\">\n",
       "      <th></th>\n",
       "      <th></th>\n",
       "      <th>Year</th>\n",
       "      <th>Type</th>\n",
       "      <th>Activity</th>\n",
       "      <th>Fatality</th>\n",
       "      <th>Sex</th>\n",
       "    </tr>\n",
       "    <tr>\n",
       "      <th>Country</th>\n",
       "      <th>Area</th>\n",
       "      <th></th>\n",
       "      <th></th>\n",
       "      <th></th>\n",
       "      <th></th>\n",
       "      <th></th>\n",
       "    </tr>\n",
       "  </thead>\n",
       "  <tbody>\n",
       "    <tr>\n",
       "      <th rowspan=\"34\" valign=\"top\">USA</th>\n",
       "      <th>Alabama</th>\n",
       "      <td>11</td>\n",
       "      <td>11</td>\n",
       "      <td>10</td>\n",
       "      <td>11</td>\n",
       "      <td>10</td>\n",
       "    </tr>\n",
       "    <tr>\n",
       "      <th>Alaska</th>\n",
       "      <td>1</td>\n",
       "      <td>1</td>\n",
       "      <td>1</td>\n",
       "      <td>1</td>\n",
       "      <td>1</td>\n",
       "    </tr>\n",
       "    <tr>\n",
       "      <th>California</th>\n",
       "      <td>251</td>\n",
       "      <td>251</td>\n",
       "      <td>243</td>\n",
       "      <td>251</td>\n",
       "      <td>238</td>\n",
       "    </tr>\n",
       "    <tr>\n",
       "      <th>Connecticut</th>\n",
       "      <td>3</td>\n",
       "      <td>3</td>\n",
       "      <td>3</td>\n",
       "      <td>3</td>\n",
       "      <td>2</td>\n",
       "    </tr>\n",
       "    <tr>\n",
       "      <th>Delaware</th>\n",
       "      <td>6</td>\n",
       "      <td>6</td>\n",
       "      <td>6</td>\n",
       "      <td>6</td>\n",
       "      <td>6</td>\n",
       "    </tr>\n",
       "    <tr>\n",
       "      <th>Florida</th>\n",
       "      <td>922</td>\n",
       "      <td>922</td>\n",
       "      <td>875</td>\n",
       "      <td>922</td>\n",
       "      <td>900</td>\n",
       "    </tr>\n",
       "    <tr>\n",
       "      <th>Florida</th>\n",
       "      <td>1</td>\n",
       "      <td>1</td>\n",
       "      <td>1</td>\n",
       "      <td>1</td>\n",
       "      <td>1</td>\n",
       "    </tr>\n",
       "    <tr>\n",
       "      <th>Georgia</th>\n",
       "      <td>12</td>\n",
       "      <td>12</td>\n",
       "      <td>12</td>\n",
       "      <td>12</td>\n",
       "      <td>12</td>\n",
       "    </tr>\n",
       "    <tr>\n",
       "      <th>Guam</th>\n",
       "      <td>1</td>\n",
       "      <td>1</td>\n",
       "      <td>1</td>\n",
       "      <td>1</td>\n",
       "      <td>1</td>\n",
       "    </tr>\n",
       "    <tr>\n",
       "      <th>Hawaii</th>\n",
       "      <td>232</td>\n",
       "      <td>232</td>\n",
       "      <td>227</td>\n",
       "      <td>232</td>\n",
       "      <td>219</td>\n",
       "    </tr>\n",
       "    <tr>\n",
       "      <th>Johnston Atoll</th>\n",
       "      <td>1</td>\n",
       "      <td>1</td>\n",
       "      <td>1</td>\n",
       "      <td>1</td>\n",
       "      <td>1</td>\n",
       "    </tr>\n",
       "    <tr>\n",
       "      <th>Kentucky</th>\n",
       "      <td>1</td>\n",
       "      <td>1</td>\n",
       "      <td>1</td>\n",
       "      <td>1</td>\n",
       "      <td>0</td>\n",
       "    </tr>\n",
       "    <tr>\n",
       "      <th>Louisiana</th>\n",
       "      <td>10</td>\n",
       "      <td>10</td>\n",
       "      <td>10</td>\n",
       "      <td>10</td>\n",
       "      <td>10</td>\n",
       "    </tr>\n",
       "    <tr>\n",
       "      <th>Maine</th>\n",
       "      <td>1</td>\n",
       "      <td>1</td>\n",
       "      <td>1</td>\n",
       "      <td>1</td>\n",
       "      <td>1</td>\n",
       "    </tr>\n",
       "    <tr>\n",
       "      <th>Maryland</th>\n",
       "      <td>5</td>\n",
       "      <td>5</td>\n",
       "      <td>5</td>\n",
       "      <td>5</td>\n",
       "      <td>4</td>\n",
       "    </tr>\n",
       "    <tr>\n",
       "      <th>Massachusetts</th>\n",
       "      <td>11</td>\n",
       "      <td>11</td>\n",
       "      <td>11</td>\n",
       "      <td>11</td>\n",
       "      <td>9</td>\n",
       "    </tr>\n",
       "    <tr>\n",
       "      <th>Midway Atoll</th>\n",
       "      <td>1</td>\n",
       "      <td>1</td>\n",
       "      <td>1</td>\n",
       "      <td>1</td>\n",
       "      <td>1</td>\n",
       "    </tr>\n",
       "    <tr>\n",
       "      <th>Mississippi</th>\n",
       "      <td>4</td>\n",
       "      <td>4</td>\n",
       "      <td>4</td>\n",
       "      <td>4</td>\n",
       "      <td>4</td>\n",
       "    </tr>\n",
       "    <tr>\n",
       "      <th>Missouri</th>\n",
       "      <td>1</td>\n",
       "      <td>1</td>\n",
       "      <td>1</td>\n",
       "      <td>1</td>\n",
       "      <td>1</td>\n",
       "    </tr>\n",
       "    <tr>\n",
       "      <th>New Jersey</th>\n",
       "      <td>35</td>\n",
       "      <td>35</td>\n",
       "      <td>33</td>\n",
       "      <td>35</td>\n",
       "      <td>32</td>\n",
       "    </tr>\n",
       "    <tr>\n",
       "      <th>New Mexico</th>\n",
       "      <td>1</td>\n",
       "      <td>1</td>\n",
       "      <td>1</td>\n",
       "      <td>1</td>\n",
       "      <td>1</td>\n",
       "    </tr>\n",
       "    <tr>\n",
       "      <th>New York</th>\n",
       "      <td>9</td>\n",
       "      <td>9</td>\n",
       "      <td>9</td>\n",
       "      <td>9</td>\n",
       "      <td>8</td>\n",
       "    </tr>\n",
       "    <tr>\n",
       "      <th>North Carolina</th>\n",
       "      <td>80</td>\n",
       "      <td>80</td>\n",
       "      <td>76</td>\n",
       "      <td>80</td>\n",
       "      <td>74</td>\n",
       "    </tr>\n",
       "    <tr>\n",
       "      <th>Oregon</th>\n",
       "      <td>29</td>\n",
       "      <td>29</td>\n",
       "      <td>29</td>\n",
       "      <td>29</td>\n",
       "      <td>29</td>\n",
       "    </tr>\n",
       "    <tr>\n",
       "      <th>Palmyra Atoll</th>\n",
       "      <td>2</td>\n",
       "      <td>2</td>\n",
       "      <td>2</td>\n",
       "      <td>2</td>\n",
       "      <td>2</td>\n",
       "    </tr>\n",
       "    <tr>\n",
       "      <th>Pennsylvania</th>\n",
       "      <td>1</td>\n",
       "      <td>1</td>\n",
       "      <td>1</td>\n",
       "      <td>1</td>\n",
       "      <td>1</td>\n",
       "    </tr>\n",
       "    <tr>\n",
       "      <th>Puerto Rico</th>\n",
       "      <td>14</td>\n",
       "      <td>14</td>\n",
       "      <td>10</td>\n",
       "      <td>14</td>\n",
       "      <td>13</td>\n",
       "    </tr>\n",
       "    <tr>\n",
       "      <th>Rhode Island</th>\n",
       "      <td>3</td>\n",
       "      <td>3</td>\n",
       "      <td>3</td>\n",
       "      <td>3</td>\n",
       "      <td>2</td>\n",
       "    </tr>\n",
       "    <tr>\n",
       "      <th>South Carolina</th>\n",
       "      <td>125</td>\n",
       "      <td>125</td>\n",
       "      <td>110</td>\n",
       "      <td>125</td>\n",
       "      <td>120</td>\n",
       "    </tr>\n",
       "    <tr>\n",
       "      <th>Texas</th>\n",
       "      <td>61</td>\n",
       "      <td>61</td>\n",
       "      <td>60</td>\n",
       "      <td>61</td>\n",
       "      <td>61</td>\n",
       "    </tr>\n",
       "    <tr>\n",
       "      <th>US Virgin Islands</th>\n",
       "      <td>5</td>\n",
       "      <td>5</td>\n",
       "      <td>5</td>\n",
       "      <td>5</td>\n",
       "      <td>5</td>\n",
       "    </tr>\n",
       "    <tr>\n",
       "      <th>Virginia</th>\n",
       "      <td>10</td>\n",
       "      <td>10</td>\n",
       "      <td>10</td>\n",
       "      <td>10</td>\n",
       "      <td>10</td>\n",
       "    </tr>\n",
       "    <tr>\n",
       "      <th>Wake Island</th>\n",
       "      <td>1</td>\n",
       "      <td>1</td>\n",
       "      <td>1</td>\n",
       "      <td>1</td>\n",
       "      <td>1</td>\n",
       "    </tr>\n",
       "    <tr>\n",
       "      <th>Washington</th>\n",
       "      <td>2</td>\n",
       "      <td>2</td>\n",
       "      <td>2</td>\n",
       "      <td>2</td>\n",
       "      <td>2</td>\n",
       "    </tr>\n",
       "  </tbody>\n",
       "</table>\n",
       "</div>"
      ],
      "text/plain": [
       "                           Year  Type  Activity  Fatality  Sex\n",
       "Country Area                                                  \n",
       "USA     Alabama              11    11        10        11   10\n",
       "        Alaska                1     1         1         1    1\n",
       "        California          251   251       243       251  238\n",
       "        Connecticut           3     3         3         3    2\n",
       "        Delaware              6     6         6         6    6\n",
       "        Florida             922   922       875       922  900\n",
       "        Florida               1     1         1         1    1\n",
       "        Georgia              12    12        12        12   12\n",
       "        Guam                  1     1         1         1    1\n",
       "        Hawaii              232   232       227       232  219\n",
       "        Johnston Atoll        1     1         1         1    1\n",
       "        Kentucky              1     1         1         1    0\n",
       "        Louisiana            10    10        10        10   10\n",
       "        Maine                 1     1         1         1    1\n",
       "        Maryland              5     5         5         5    4\n",
       "        Massachusetts        11    11        11        11    9\n",
       "        Midway Atoll          1     1         1         1    1\n",
       "        Mississippi           4     4         4         4    4\n",
       "        Missouri              1     1         1         1    1\n",
       "        New Jersey           35    35        33        35   32\n",
       "        New Mexico            1     1         1         1    1\n",
       "        New York              9     9         9         9    8\n",
       "        North Carolina       80    80        76        80   74\n",
       "        Oregon               29    29        29        29   29\n",
       "        Palmyra Atoll         2     2         2         2    2\n",
       "        Pennsylvania          1     1         1         1    1\n",
       "        Puerto Rico          14    14        10        14   13\n",
       "        Rhode Island          3     3         3         3    2\n",
       "        South Carolina      125   125       110       125  120\n",
       "        Texas                61    61        60        61   61\n",
       "        US Virgin Islands     5     5         5         5    5\n",
       "        Virginia             10    10        10        10   10\n",
       "        Wake Island           1     1         1         1    1\n",
       "        Washington            2     2         2         2    2"
      ]
     },
     "execution_count": 48,
     "metadata": {},
     "output_type": "execute_result"
    }
   ],
   "source": [
    "df_USA.groupby(['Country', 'Area']) ['Year', 'Type', 'Activity','Fatality','Sex'].count()"
   ]
  },
  {
   "cell_type": "markdown",
   "metadata": {},
   "source": [
    "Is the season most mortifere based on the activities? Meaning surfing, kayaking, things that you would do in summer. "
   ]
  },
  {
   "cell_type": "code",
   "execution_count": 58,
   "metadata": {},
   "outputs": [
    {
     "data": {
      "text/plain": [
       "{'Surfing': 527,\n",
       " 'Swimming': 250,\n",
       " 'Wading': 93,\n",
       " 'Fishing': 89,\n",
       " 'Standing': 52,\n",
       " 'Spearfishing': 47,\n",
       " 'Snorkeling': 26,\n",
       " 'Body boarding': 23,\n",
       " 'Boogie boarding': 20,\n",
       " 'Body surfing': 20,\n",
       " 'Kayaking': 18,\n",
       " 'Diving': 18,\n",
       " 'Scuba diving': 17,\n",
       " 'Swimming ': 12,\n",
       " 'Boogie Boarding': 12,\n",
       " 'Walking': 10,\n",
       " 'Free diving': 9,\n",
       " 'Bathing': 9,\n",
       " 'Kayak Fishing': 8,\n",
       " 'Floating': 8,\n",
       " 'Sitting on surfboard': 7,\n",
       " 'Surfing (sitting on his board)': 7,\n",
       " 'Surf fishing': 6,\n",
       " 'Playing': 6,\n",
       " 'Free diving for abalone': 6,\n",
       " 'Stand-Up Paddleboarding': 6,\n",
       " 'Windsurfing': 6,\n",
       " 'Paddle boarding': 6,\n",
       " 'Wade Fishing': 4,\n",
       " 'Spearfishing on Scuba': 4,\n",
       " 'Paddling on surfboard': 4,\n",
       " 'Kayaking / Fishing': 4,\n",
       " 'Tagging sharks': 4,\n",
       " 'Surfing ': 4,\n",
       " 'Jumping': 4,\n",
       " 'Surfing, paddling seawards': 3,\n",
       " 'Scuba diving (submerged)': 3,\n",
       " 'Skindiving': 3,\n",
       " 'Wade fishing': 3,\n",
       " 'Kite Surfing': 3,\n",
       " 'Fishing for sharks': 3,\n",
       " 'Hookah diving for abalone': 3,\n",
       " 'Canoeing': 3,\n",
       " 'Walking out of the water after surfing': 3,\n",
       " 'Scuba diving (but on surface)': 3,\n",
       " 'Treading water': 3,\n",
       " 'Escaping from Alacatraz': 3,\n",
       " 'Body-boarding': 3,\n",
       " 'Floating on his back': 3,\n",
       " 'Spearfishing / Scuba diving (at surface)': 3,\n",
       " 'Fishing for bluefish': 2,\n",
       " 'Fishing for mackerel': 2,\n",
       " 'Sailing': 2,\n",
       " 'Fishing ': 2,\n",
       " 'Seine netting': 2,\n",
       " 'Diving for abalone': 2,\n",
       " 'Standing ': 2,\n",
       " 'Shark fishing': 2,\n",
       " 'Wade-fishing': 2,\n",
       " 'Scuba diving & spearfishing': 2,\n",
       " 'Kiteboarding': 2,\n",
       " 'Floating in inner tube': 2,\n",
       " 'Playing in the surf': 2,\n",
       " 'Floating on a raft': 2,\n",
       " 'Clamming': 2,\n",
       " 'Jumped into the water': 2,\n",
       " 'Swimming, ducking for shells in water 0.9 m deep': 2,\n",
       " 'Hookah diving for sea urchins': 2,\n",
       " 'Spearfishing using Scuba': 2,\n",
       " 'Crabbing': 2,\n",
       " 'SUP': 2,\n",
       " 'Kayaking ': 2,\n",
       " 'Surfing (lying prone on his board)': 2,\n",
       " 'Free diving & spearfishing (descending)': 1,\n",
       " 'Floating on air mattress': 1,\n",
       " 'Free diving & spearfishing (ascending)': 1,\n",
       " 'Floating on a small orange raft ': 1,\n",
       " 'Floating ': 1,\n",
       " 'Floating on inner tube after diving for lobster': 1,\n",
       " 'Floating with life preserver after his boat foundered': 1,\n",
       " 'Floating face-down in knee-deep water': 1,\n",
       " 'Floating on raft': 1,\n",
       " 'Free diving  & spearfishing (submerged)': 1,\n",
       " 'Floating in tube': 1,\n",
       " 'Free diving ': 1,\n",
       " 'Floating on inner tube raft': 1,\n",
       " 'Floating near boat & observing bioluminesce': 1,\n",
       " 'Floating in creek': 1,\n",
       " 'Wreck / Technical diving': 1,\n",
       " 'Free diving (but on surface)': 1,\n",
       " 'Free diving , but surfacing': 1,\n",
       " 'In waist-deep water': 1,\n",
       " 'In water with diving seabirds': 1,\n",
       " 'Jet skiing': 1,\n",
       " 'Jumped off rocks into white water': 1,\n",
       " 'Jumped off surfboard & landed on the shark': 1,\n",
       " 'Jumped overboard to rescue companion': 1,\n",
       " 'Jumping in the waves': 1,\n",
       " 'Kayak fishing': 1,\n",
       " 'Killing a shark': 1,\n",
       " 'Kite Boarding': 1,\n",
       " 'Kite boarding': 1,\n",
       " 'Kite surfing': 1,\n",
       " 'Kneeling in the water': 1,\n",
       " 'Knocked into the water': 1,\n",
       " 'Lobstering': 1,\n",
       " 'Longline fishing': 1,\n",
       " 'Lying on surfboard': 1,\n",
       " 'Hunting turtle': 1,\n",
       " 'Hunting crayfish ': 1,\n",
       " 'Hookah diving for abalone (submerged)': 1,\n",
       " 'Freediving for seashells': 1,\n",
       " 'Free diving / spearfishing (resting on the surface)': 1,\n",
       " 'Free diving / spearfishing, from paddleboard & floating on the surface': 1,\n",
       " 'Free diving for abalone (ascending)': 1,\n",
       " 'Free diving for abalone (submerged)': 1,\n",
       " 'Free diving for abalone (surfacing)': 1,\n",
       " 'Free diving for abalone from Zodiac (submerged)': 1,\n",
       " 'Freediving for abalone (at surface)': 1,\n",
       " 'Freediving, inspecting Kaunakakai wharf construction after blasting & dredging ': 1,\n",
       " 'Hookah diving for abalone (descending)': 1,\n",
       " 'Gaffing & attempting to bring onboard a harpooned shark': 1,\n",
       " 'Gigging for flounder': 1,\n",
       " 'Goggle-diving for seaweeds, but standing in water': 1,\n",
       " 'Grabbed shark & threw it on deck': 1,\n",
       " 'Holding onto an inflatable boat': 1,\n",
       " 'Holding shark on leader & dangling it above the water': 1,\n",
       " 'Hookah diving (submerged)': 1,\n",
       " 'Gathering fish stunned by dynamite': 1,\n",
       " 'Fishing from boat, Kaimamla': 1,\n",
       " 'Fishing, tossing netted shark onboard': 1,\n",
       " 'Body Boarding': 1,\n",
       " 'Body surfing & treading water': 1,\n",
       " 'Body surfing / treading water': 1,\n",
       " 'Body surfing or Boogie boarding': 1,\n",
       " 'Body surfing or body boarding': 1,\n",
       " 'Body surfing, stood up on sandbar': 1,\n",
       " 'Body surfing?': 1,\n",
       " 'Boogie boarding / wading': 1,\n",
       " 'Boogie boarding or Surfing': 1,\n",
       " 'Boogie-boarding / swimming': 1,\n",
       " 'Bottom fishing for lingcod & had hooked a fish': 1,\n",
       " 'C47 aircraft carrying 5,000 lbs of ice ditched in the sea': 1,\n",
       " 'Casting a net': 1,\n",
       " 'Catching crabs': 1,\n",
       " 'Cleaning a tank': 1,\n",
       " 'Collecting fish from net': 1,\n",
       " 'Commercial diver (submerged or treading water)': 1,\n",
       " 'Commercial spearfishing': 1,\n",
       " 'Conducting research': 1,\n",
       " 'Crabbing (spearing crabs)': 1,\n",
       " 'Body boarding or surfing': 1,\n",
       " 'Boat exploded': 1,\n",
       " 'Cruising': 1,\n",
       " 'Boat': 1,\n",
       " '\"Riding waves on a board\"': 1,\n",
       " '\"Swimming vigorously\"': 1,\n",
       " \"16' catamaran capsized previous night, occupants stayed with wreckage until morning, then attempted to swim ashore\": 1,\n",
       " '25-foot cabin cruiser Happy Jack sank in heavy seas': 1,\n",
       " '3 men & 2 boys picked up wearing life jackets and with inner tube': 1,\n",
       " \"40' fishing boat sank\": 1,\n",
       " 'Abalone diving using Hookah (resting on the surface)': 1,\n",
       " 'Accidentally dragged overboard from the sampan Holokahana into school of yellowfin tuna': 1,\n",
       " 'Adrift after the sinking of the motor yacht Princess Dianne': 1,\n",
       " 'Adrift in a life jacket': 1,\n",
       " 'Adrift on refugee raft': 1,\n",
       " \"Adrift, hanging onto cushion, after his 17' skiff ran out of gas & capsized 3 miles from shore\": 1,\n",
       " 'Air Disaster': 1,\n",
       " 'Aircaft exploded': 1,\n",
       " 'American freighter Mormackite, bound from Buenos Aires for Baltimore, capsized & sank in heavy seas': 1,\n",
       " 'Attempting to net shark in shark channel': 1,\n",
       " 'Attempting to rescue a shark': 1,\n",
       " 'Bitten while cutting shark from net': 1,\n",
       " 'Board sailing': 1,\n",
       " \"Crouching in 2' of water\": 1,\n",
       " 'Dived from inner-tube': 1,\n",
       " \"Fishing, stepped on hooked shark's head\": 1,\n",
       " 'Fishing for bluefish, shark leapt into dory': 1,\n",
       " 'Fishing for squid': 1,\n",
       " 'Fishing for trout ': 1,\n",
       " 'Fishing for tuna': 1,\n",
       " \"Fishing from 32' boat\": 1,\n",
       " 'Fishing from Surfboard': 1,\n",
       " 'Measuring sharks': 1,\n",
       " 'Fishing from market fishboat Sea Spray': 1,\n",
       " 'Fishing from rocks, swept out to sea by large wave & treading water': 1,\n",
       " 'Fishing in Alabama Deep Fishing Rodeo': 1,\n",
       " 'Fishing inside net': 1,\n",
       " 'Fishing,  tarpon being chased by shark  leapt across his skiff, breaking it in half & Larkin became tangled in the net': 1,\n",
       " 'Fishing, Struck by another shark when removing shark from line': 1,\n",
       " 'Fishing, attempted to take a netted shark': 1,\n",
       " \"Fishing, caught a 15' shark & took it onboard\": 1,\n",
       " 'Fishing, fell from rocks & disappeared': 1,\n",
       " 'Fishing, had just speared a ulua': 1,\n",
       " 'Fishing, on charter boat Silver Dollar': 1,\n",
       " \"Fishing, removing gaff from shark's mouth\": 1,\n",
       " 'Fishing, removing the shark from his line': 1,\n",
       " 'Fishing for pompano': 1,\n",
       " 'Fishing for albacore': 1,\n",
       " 'Diving ': 1,\n",
       " \"Filming 5' blue shark\": 1,\n",
       " 'Diving / Kissing the shark': 1,\n",
       " 'Diving for sand dollars': 1,\n",
       " \"Diving in Sharkey's Reef restaurant\\x92s aquarium\": 1,\n",
       " 'Diving in aquarium display tank': 1,\n",
       " \"Diving to untangle a crab trap line from boat's propeller\": 1,\n",
       " 'Diving, attempting to retrieve body of drowning victim wedged between rocks': 1,\n",
       " 'Diving, retrieving fish caught in net ': 1,\n",
       " 'Dragging stranded shark ashore': 1,\n",
       " 'Dropping anchor': 1,\n",
       " \"During a shark fishing tournament, the 18' Boatem was capsized by waves, throwing 3 men into the water \": 1,\n",
       " 'Ejected from F3H-2 aircraft ': 1,\n",
       " \"Explosion destroyed 28' boat, survivors in the water \": 1,\n",
       " 'Feeding sharks': 1,\n",
       " \"Fell off surfboard 20' from shore\": 1,\n",
       " 'Fell overboard': 1,\n",
       " 'Fell overboard & swimming': 1,\n",
       " 'Fell overboard from fishing schooner Halycon': 1,\n",
       " 'Fell overboard from steamship Rio Grande': 1,\n",
       " 'Fell overboard while fishing for sharks': 1,\n",
       " \"Lying prone in 2' of water\": 1,\n",
       " 'Playing ': 1,\n",
       " 'Net fishing, picking catch from the net': 1,\n",
       " 'Swimming / Wading': 1,\n",
       " 'Swimming / snorkeling': 1,\n",
       " 'Swimming / surfing': 1,\n",
       " 'Swimming 3 miles offshore': 1,\n",
       " 'Swimming at edge of channel': 1,\n",
       " \"Swimming at surface through school of feeding 2.5' to 5\\x92 sharks\": 1,\n",
       " 'Swimming behind sailboat': 1,\n",
       " 'Swimming beside launch': 1,\n",
       " 'Swimming crawl stroke': 1,\n",
       " 'Swimming from camp': 1,\n",
       " 'Swimming from fishing boat setting nets': 1,\n",
       " 'Swimming from makeshift raft  to life vest after fishing boat sank': 1,\n",
       " 'Swimming from naptha launch after a day of fishing': 1,\n",
       " 'Swimming from shore to anchored sailboat': 1,\n",
       " 'Swimming in fish tank': 1,\n",
       " 'Swimming in strong current with 3 others when he disappeared': 1,\n",
       " 'Swimming near breakwater': 1,\n",
       " 'Swimming near his boat': 1,\n",
       " 'Swimming near jetty': 1,\n",
       " 'Swimming near pier': 1,\n",
       " 'Swimming / floating': 1,\n",
       " 'Swimming / Body surfing': 1,\n",
       " 'Netting shrimp': 1,\n",
       " 'Swimming /  boogie boarding': 1,\n",
       " 'Surfing & dangling foot in water amid baitfish': 1,\n",
       " 'Surfing / Swimming': 1,\n",
       " 'Surfing / Wading': 1,\n",
       " 'Surfing / treading water': 1,\n",
       " 'Surfing on air mattress': 1,\n",
       " 'Surfing or body surfing': 1,\n",
       " 'Surfing, but standing in water alongside board': 1,\n",
       " 'Surfing, collided with shark': 1,\n",
       " 'Surfing, fell off surfboard': 1,\n",
       " 'Surfing, fell off surfboard & stepped on the shark.': 1,\n",
       " 'Surfing, lying on surfboard': 1,\n",
       " 'Surfing, paddling shorewards': 1,\n",
       " 'Surfing, sitting on board': 1,\n",
       " 'Surfng': 1,\n",
       " 'Survived crash of two-engine  C-46 transport plane carrying 62 migrant workers from Puerto Rico to USA ': 1,\n",
       " 'Swept out to sea while fishing': 1,\n",
       " 'Swept out to sea while net fishing': 1,\n",
       " 'Swimming (recovering remains of Stilwell) ': 1,\n",
       " 'Swimming (using a float)': 1,\n",
       " 'Swimming near pod of whales': 1,\n",
       " 'Swimming on surface': 1,\n",
       " 'Swimming or boogie boarding': 1,\n",
       " 'Swimming or paddle boarding': 1,\n",
       " 'Tzenny Chandris, a Greek freighter laden with scrap iron, foundered in heavy weather': 1,\n",
       " 'Wading / Surfing': 1,\n",
       " 'Wading / fishing & carrying a bag of fish': 1,\n",
       " 'Wading in school of baitfish': 1,\n",
       " 'Wading near a fishing net': 1,\n",
       " 'Wading or swimming': 1,\n",
       " 'Wading to shore after surfing': 1,\n",
       " 'Wading with surfboard': 1,\n",
       " 'Wading, when he stepped on the shark': 1,\n",
       " 'Wading?': 1,\n",
       " 'Walking / surfing': 1,\n",
       " 'Walking in chest-deep water': 1,\n",
       " 'Walking in shallows': 1,\n",
       " 'Walking in surf': 1,\n",
       " 'Walking, carrying surfboard & stepped on shark': 1,\n",
       " 'Washed into sea while picking opihi & attacked by 2 large sharks ': 1,\n",
       " 'Washed off freighter Huncliff by a freak wave': 1,\n",
       " 'Watching the shark feeding on a dead pinniped': 1,\n",
       " 'Water-skiing': 1,\n",
       " 'Treading water/ Surfing': 1,\n",
       " 'Treading water after survivng crash of the US Navy airship K-74 that was hit by the German submarine U-134': 1,\n",
       " 'Towing her sister on plastic ski board': 1,\n",
       " 'Swimming, towing an empty barrel': 1,\n",
       " 'Swimming out to porpoises ': 1,\n",
       " 'Swimming with boogie board': 1,\n",
       " 'Swimming with dog near canning factory': 1,\n",
       " 'Swimming with dolphins': 1,\n",
       " 'Swimming with mask & snorkel': 1,\n",
       " 'Swimming with pod of dolphins': 1,\n",
       " 'Swimming, after single-engine aircraft went down in the sea': 1,\n",
       " 'Swimming, towing a kayak': 1,\n",
       " 'Swimming, towing surfboard': 1,\n",
       " 'Touching sharks': 1,\n",
       " 'Swimming, towing the shark': 1,\n",
       " 'Swimming, wearing black wetsuit & swim fins': 1,\n",
       " 'Tandem surfing': 1,\n",
       " 'Teasing a shark': 1,\n",
       " 'Testing anti-shark cage': 1,\n",
       " 'The British steamer Caribbee foundered': 1,\n",
       " 'The Cuban freighter Libertad was torpedoed and sunk by the German submarine U-129': 1,\n",
       " 'Touching a shark': 1,\n",
       " 'Surf-skiing': 1,\n",
       " 'Surf-fishing': 1,\n",
       " 'Surf paddling': 1,\n",
       " 'Scuba diving, reportedly also spearfishing': 1,\n",
       " 'Playing with a frisbee in the shallows': 1,\n",
       " 'Pulling anchor': 1,\n",
       " 'Pulling hooked salmon to boat': 1,\n",
       " 'Pulling raft out to ride to shore': 1,\n",
       " 'Pulling shark from the water': 1,\n",
       " 'Removing hook from shark': 1,\n",
       " 'Removing shark from a net': 1,\n",
       " 'Removing shark from tank in nightclub ': 1,\n",
       " 'Resting on body board': 1,\n",
       " 'Reviving a sedated shark': 1,\n",
       " 'Riding floatation device': 1,\n",
       " 'Rolled off raft': 1,\n",
       " 'SUP Foil boarding': 1,\n",
       " 'Sailboarding, fell into water 100 yards outside the breakwater': 1,\n",
       " 'Scuba Diving for lobster (at surface)': 1,\n",
       " 'Scuba diving & spearfishing ': 1,\n",
       " 'Scuba diving (ascending using scooter)': 1,\n",
       " 'Scuba diving for abalone (at surface)': 1,\n",
       " 'Scuba diving for lobsters': 1,\n",
       " 'Playing soccer in the water': 1,\n",
       " 'Playing on a sandbar': 1,\n",
       " 'Playing in the water': 1,\n",
       " 'Paddling': 1,\n",
       " 'Night Surfing': 1,\n",
       " 'Observing a shark feeding on a carcass of a humpback whale': 1,\n",
       " 'On a float': 1,\n",
       " \"On board 51' fishing vessel One Ki\": 1,\n",
       " 'On boat, preparing to dive': 1,\n",
       " 'On fishing boat & trailing hand in the water': 1,\n",
       " 'Paddle Boarding': 1,\n",
       " 'Paddle-surfing': 1,\n",
       " 'Paddling on surfboard or body board': 1,\n",
       " 'Playing in the surf with his 2 dogs': 1,\n",
       " 'Petting captive sharks': 1,\n",
       " 'Photographing fish': 1,\n",
       " 'Photographing the shark': 1,\n",
       " 'Plane crashed in water, men in life raft': 1,\n",
       " 'Windsurfing, but sitting on his board': 1,\n",
       " 'Playing / jumping': 1,\n",
       " 'Playing in knee-deep water': 1,\n",
       " 'Playing in surf with his child  (9)': 1,\n",
       " 'Scuba diving, attempting to catch a captive shark': 1,\n",
       " 'Sea Disaster': 1,\n",
       " 'Surf fishing, wading ': 1,\n",
       " 'Sea Disaster, sinking of the  SS Vestris': 1,\n",
       " 'Spearfishing, holding mesh bag with speared fish': 1,\n",
       " 'Spearfishing, pulled shark\\x92s tail': 1,\n",
       " 'Splashing / wading': 1,\n",
       " 'Sponge diving': 1,\n",
       " 'Standing / Snorkeling': 1,\n",
       " 'Standing / Surfing': 1,\n",
       " 'Standing / Wading': 1,\n",
       " 'Standing / surfing': 1,\n",
       " 'Standing alongside surfboard': 1,\n",
       " 'Standing in inner tube': 1,\n",
       " 'Standing in knee-deep water': 1,\n",
       " 'Standing in waist-deep water, helping his father tend a gill net containing dead fish': 1,\n",
       " 'Standing on sandbar': 1,\n",
       " 'Standing or boogie boardin': 1,\n",
       " 'Standing, holding shark pup': 1,\n",
       " 'Standing, stepped on shark': 1,\n",
       " 'Stuffing a shark into an automobile': 1,\n",
       " 'Surf fishing / wading': 1,\n",
       " 'Surf fishing in waist-deep water': 1,\n",
       " 'Spearfishing, carrying fish on spear': 1,\n",
       " 'Spearfishing, but swimming on surface': 1,\n",
       " 'Spearfishing with Joe Turner (24). Shark attracted to speared halibut on belt of one diver, tried to bite Ide\\x92s speargun & he shot it in the mouth': 1,\n",
       " 'Skin diving': 1,\n",
       " 'Sea disaster': 1,\n",
       " 'Shark Fishing': 1,\n",
       " 'Shipwreck': 1,\n",
       " 'Shrimping': 1,\n",
       " \"Sitting in 3' of water\": 1,\n",
       " 'Sitting in the water': 1,\n",
       " 'Sittting in water with his child': 1,\n",
       " 'Skimboarding': 1,\n",
       " 'Skin diving ': 1,\n",
       " 'Spearfishing using scuba': 1,\n",
       " 'Skindiving for abalone (but at surface)': 1,\n",
       " 'Skindiving for specimens': 1,\n",
       " 'Spearfishing & had just speared a ulua': 1,\n",
       " 'Spearfishing (but on surface)': 1,\n",
       " 'Spearfishing / Scuba diving': 1,\n",
       " 'Spearfishing / free diving': 1,\n",
       " 'Spearfishing / night diving': 1,\n",
       " 'Spearfishing / scuba diving': 1,\n",
       " ' ': 1}"
      ]
     },
     "execution_count": 58,
     "metadata": {},
     "output_type": "execute_result"
    }
   ],
   "source": [
    "dict(df.value_counts(\"Activity\"))"
   ]
  },
  {
   "cell_type": "code",
   "execution_count": null,
   "metadata": {},
   "outputs": [],
   "source": [
    "df_surf = df_USA[(shark_df['Activity'] == 'Surfing')]\n",
    "df_surf.shape"
   ]
  },
  {
   "cell_type": "code",
   "execution_count": null,
   "metadata": {},
   "outputs": [],
   "source": []
  },
  {
   "cell_type": "code",
   "execution_count": null,
   "metadata": {},
   "outputs": [],
   "source": []
  },
  {
   "cell_type": "code",
   "execution_count": 50,
   "metadata": {
    "scrolled": true
   },
   "outputs": [
    {
     "name": "stderr",
     "output_type": "stream",
     "text": [
      "<ipython-input-50-0b9cade78eca>:1: SettingWithCopyWarning: \n",
      "A value is trying to be set on a copy of a slice from a DataFrame\n",
      "\n",
      "See the caveats in the documentation: https://pandas.pydata.org/pandas-docs/stable/user_guide/indexing.html#returning-a-view-versus-a-copy\n",
      "  df['Coast']= df['Coast'][df['Area'].isin(('Alaska', 'Hawai', 'California', 'Oregon', 'Washington'))] = 'West'\n",
      "<ipython-input-50-0b9cade78eca>:2: SettingWithCopyWarning: \n",
      "A value is trying to be set on a copy of a slice from a DataFrame\n",
      "\n",
      "See the caveats in the documentation: https://pandas.pydata.org/pandas-docs/stable/user_guide/indexing.html#returning-a-view-versus-a-copy\n",
      "  df['Coast'][~df['Area'].isin(('Alaska', 'Hawai', 'California', 'Oregon', 'Washington'))] = 'No west'\n"
     ]
    }
   ],
   "source": [
    "df_USA['Coast']= df_USA['Coast'][df_USA['Area'].isin(('Alaska', 'Hawai', 'California', 'Oregon', 'Washington'))] = 'In Pacific'\n",
    "df_USA['Coast'][~df_USA['Area'].isin(('Alaska', 'Hawai', 'California', 'Oregon', 'Washington'))] = 'In Atlantic and Caribean'"
   ]
  },
  {
   "cell_type": "code",
   "execution_count": 54,
   "metadata": {},
   "outputs": [
    {
     "data": {
      "image/png": "[encoded data removed]",
      "text/plain": [
       "<Figure size 1440x432 with 1 Axes>"
      ]
     },
     "metadata": {},
     "output_type": "display_data"
    }
   ],
   "source": [
    "df_USA.Coast.value_counts().plot.pie(explode=(0, 0.15), title ='Shark Attacks')\n",
    "plt.ylabel(\"Coasts of USA\");"
   ]
  },
  {
   "cell_type": "code",
   "execution_count": null,
   "metadata": {},
   "outputs": [],
   "source": [
    "#['Year', 'Type', 'Activity','Fatality','Sex']\n",
    "#df.dropna(subset=[\"Year\"], inplace = True)\n",
    "#dict(df.value_counts(\"Month\"))\n",
    "#df[df.Month.notna()].astype('str').groupby(['Month']).count()\n",
    "#df.Month.apply(pd.Series)[0].value_counts()\n",
    "#df.drop(df[df[\"Month\"] == \"\"].index,  inplace=True)\n",
    "#df.loc[df[str(\"Month\")] == \"[]\"]\n",
    "#df.value_counts(\"Species \")"
   ]
  },
  {
   "cell_type": "markdown",
   "metadata": {},
   "source": [
    "#importing all necessary libraries\n",
    "import plotly.plotly as py\n",
    "import plotly.graph_objs as go\n",
    "import pandas as pd\n",
    "  \n",
    "# some more libraries to plot graph\n",
    "from plotly.offline import download_plotlyjs, init_notebook_mode, iplot, plot\n",
    "  \n",
    "# To establish connection\n",
    "init_notebook_mode(connected = True)\n",
    "  \n",
    "  \n",
    "# type defined is choropleth to\n",
    "# plot geographical plots\n",
    "data = dict(type = 'choropleth',\n",
    "  \n",
    "            # location: Arizoana, California, Newyork\n",
    "            locations = ['AZ', 'CA', 'NY'],\n",
    "              \n",
    "            # States of USA\n",
    "            locationmode = 'USA-states',\n",
    "              \n",
    "            # colorscale can be added as per requirement\n",
    "            colorscale = 'Portland',\n",
    "              \n",
    "            # text can be given anything you like\n",
    "            text = ['text 1', 'text 2', 'text 3'],\n",
    "            z = [1.0, 2.0, 3.0],\n",
    "            colorbar = {'title': 'Colorbar Title Goes Here'})\n",
    "              \n",
    "layout = dict(geo ={'scope': 'usa'})\n",
    "  \n",
    "# passing data dictionary as a list \n",
    "choromap = go.Figure(data = [data], layout = layout)\n",
    "  \n",
    "# plotting graph\n",
    "iplot(choromap)"
   ]
  }
 ],
 "metadata": {
  "kernelspec": {
   "display_name": "ironhack",
   "language": "python",
   "name": "ironhack"
  },
  "language_info": {
   "codemirror_mode": {
    "name": "ipython",
    "version": 3
   },
   "file_extension": ".py",
   "mimetype": "text/x-python",
   "name": "python",
   "nbconvert_exporter": "python",
   "pygments_lexer": "ipython3",
   "version": "3.8.5"
  }
 },
 "nbformat": 4,
 "nbformat_minor": 4
}
